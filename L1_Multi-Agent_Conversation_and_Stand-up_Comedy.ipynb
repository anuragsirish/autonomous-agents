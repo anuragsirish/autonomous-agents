{
 "cells": [
  {
   "cell_type": "markdown",
   "id": "a81456dd",
   "metadata": {},
   "source": [
    "# Lesson 1: Multi-Agent Conversation and Stand-up Comedy"
   ]
  },
  {
   "cell_type": "markdown",
   "id": "4693467e",
   "metadata": {},
   "source": [
    "Welcome to Lesson 1.\n",
    "\n",
    "To access the `requirements.txt` file and the`utils` modules, please go to the `File` menu and select`Open...`.\n",
    "\n",
    "I hope you enjoy this course!"
   ]
  },
  {
   "cell_type": "markdown",
   "id": "742cf649",
   "metadata": {},
   "source": [
    "## Setup"
   ]
  },
  {
   "cell_type": "code",
   "execution_count": 53,
   "id": "c184414d",
   "metadata": {},
   "outputs": [
    {
     "name": "stdout",
     "output_type": "stream",
     "text": [
      "https://ml-workspace0312-aoai.openai.azure.com/\n"
     ]
    }
   ],
   "source": [
    "import os\n",
    "from dotenv import load_dotenv\n",
    "config_list = [\n",
    "  \n",
    "    {\n",
    "        'model': 'gpt4',\n",
    "        'api_key': ''+(os.environ.get('AZURE_OPENAI_KEY'))+'',\n",
    "        'base_url':  ''+(os.environ.get('AZURE_OPENAI_ENDPOINT'))+'',\n",
    "        'api_type': 'azure',\n",
    "        'api_version': '2024-02-01'\n",
    "    }\n",
    "]"
   ]
  },
  {
   "cell_type": "markdown",
   "id": "116a1c4d",
   "metadata": {},
   "source": [
    "## Define an AutoGen agent"
   ]
  },
  {
   "cell_type": "code",
   "execution_count": 80,
   "id": "6fb8c441-c58c-41a8-a54b-5c387afceac5",
   "metadata": {
    "height": 132
   },
   "outputs": [],
   "source": [
    "from autogen import ConversableAgent\n",
    "\n",
    "agent = ConversableAgent(\n",
    "    name=\"chatbot\",\n",
    "    llm_config={\n",
    "        \"config_list\": config_list,\n",
    "    },\n",
    "    human_input_mode=\"NEVER\",\n",
    ")\n",
    "\n"
   ]
  },
  {
   "cell_type": "code",
   "execution_count": 81,
   "id": "47886b5f-fc7c-431a-8036-cff6e88f85c6",
   "metadata": {
    "height": 81
   },
   "outputs": [
    {
     "name": "stdout",
     "output_type": "stream",
     "text": [
      "Sure, here's a joke for you:\n",
      "\n",
      "Why don't scientists trust atoms?\n",
      "\n",
      "Because they make up everything!\n"
     ]
    }
   ],
   "source": [
    "reply = agent.generate_reply(\n",
    "    messages=[{\"content\": \"Tell me a joke.\", \"role\": \"user\"}]\n",
    ")\n",
    "print(reply)"
   ]
  },
  {
   "cell_type": "code",
   "execution_count": 82,
   "id": "67f626e9-4cec-40c1-abde-2eff1252b848",
   "metadata": {
    "height": 81
   },
   "outputs": [
    {
     "name": "stdout",
     "output_type": "stream",
     "text": [
      "I'm sorry, I must have missed the joke you're asking me to repeat. Could you please tell it again?\n"
     ]
    }
   ],
   "source": [
    "reply = agent.generate_reply(\n",
    "    messages=[{\"content\": \"Repeat the joke.\", \"role\": \"user\"}]\n",
    ")\n",
    "print(reply)"
   ]
  },
  {
   "cell_type": "markdown",
   "id": "8c98a301",
   "metadata": {},
   "source": [
    "## Conversation\n",
    "\n",
    "Setting up a conversation between two agents, Cathy and Joe, where the memory of their interactions is retained."
   ]
  },
  {
   "cell_type": "code",
   "execution_count": 87,
   "id": "8f109dcb-824e-40d7-8e86-efee42b75f3c",
   "metadata": {
    "height": 285
   },
   "outputs": [],
   "source": [
    "cathy = ConversableAgent(\n",
    "    name=\"cathy\",\n",
    "    system_message=\n",
    "    \"Your name is Cathy and you are a stand-up comedian.\",\n",
    "    llm_config={\n",
    "        \"config_list\": config_list,\n",
    "    },\n",
    "    human_input_mode=\"NEVER\",\n",
    ")\n",
    "\n",
    "joe = ConversableAgent(\n",
    "    name=\"joe\",\n",
    "    system_message=\n",
    "    \"Your name is Joe and you are a stand-up comedian. \"\n",
    "    \"Start the next joke from the punchline of the previous joke.\",\n",
    "    llm_config={\n",
    "        \"config_list\": config_list,\n",
    "    },\n",
    "    human_input_mode=\"NEVER\",\n",
    ")"
   ]
  },
  {
   "cell_type": "markdown",
   "id": "43f71a61",
   "metadata": {},
   "source": [
    "**Note**: You might get a slightly different response (set of jokes) than what is shown in the video"
   ]
  },
  {
   "cell_type": "code",
   "execution_count": 88,
   "id": "46a1c6f6-687e-40de-8819-374201cfed9f",
   "metadata": {
    "height": 98
   },
   "outputs": [
    {
     "name": "stdout",
     "output_type": "stream",
     "text": [
      "\u001b[33mjoe\u001b[0m (to cathy):\n",
      "\n",
      "I'm Joe. Cathy, let's keep the jokes rolling.\n",
      "\n",
      "--------------------------------------------------------------------------------\n",
      "\u001b[33mcathy\u001b[0m (to joe):\n",
      "\n",
      "Sure thing, Joe! I love this job of mine as a stand-up comedian. It's like being a politician, only with less lying and more drinks!\n",
      "\n",
      "So, I had an interesting day today. On my way here, I ran into an old friend. Not because I was excited to see them, but because I was texting while walking. I did assure them though, it was not 'seeing them' part that shook me up, it was the 'walking' part.\n",
      "\n",
      "Ever go to the grocery store and feel like you’re in a real-life episode of Survivor? Just me then? Racing against the clock to find everything you need, and the final challenge... trying to fit all your groceries on that tiny little conveyor belt. \n",
      "\n",
      "And how about when you’re trying to be fit and you buy a salad, but then you get to the counter and they’re like, \"Would you like a bread roll with that?\" Well, how am I meant to answer that? \"No thank you, I’m trying to be healthy,\" or \"Yes, can I have four please?\"\n",
      "\n",
      "If life were a musical, I’d definitely be the background character who’s only observed for comedic relief. But, hey, at least I’d have some banging musical numbers!\n",
      "\n",
      "\n",
      "--------------------------------------------------------------------------------\n",
      "\u001b[33mjoe\u001b[0m (to cathy):\n",
      "\n",
      "\"Why is everyone dancing and why do they know all the words?!\" I’d yell during an act-2 number, twirling aimlessly while attempting to carry a heavy tray of props!\n",
      "\n",
      "Speaking of dancing, it's like the saying goes: dance like no one is watching. But, in my case, mop like you're not just preparing for an unexpected visit from the landlord. \"Yes, my dear, it's not a leak... I'm preparing for my Swan Lake audition!\"\n",
      "\n",
      "Did you guys know why I've never seen a ghost in my house? It's not because it's not haunted, but because even the ghosts can't afford the rent! \n",
      "\n",
      "And my girlfriend suggested we should start growing our own food at home. I was like, \"Babe, I can’t even keep our houseplants alive... and they don’t even eat anything!\" \n",
      "\n",
      "You know you're struggling to 'adult' properly when even the cactus you bought because 'they don't need much care' started packing its tiny suitcase to leave. It left me a note, saying, \"It's not you...it's your watering schedule\".\n",
      "\n",
      "--------------------------------------------------------------------------------\n",
      "\u001b[33mcathy\u001b[0m (to joe):\n",
      "\n",
      "And you know you've hit rock bottom when even the SPAM in your inbox starts ghosting you! I'm like, \"C'mon, Prince from Nigeria, I thought we had something special!\"\n",
      "\n",
      "Talking about emails, what's with the unsubscribe button being so hard to find? It's honestly harder to find than Waldo! It's like a breadcrumb trail leading to Where-is-that-darn-unsubscribe-button land!\n",
      "\n",
      "They say 'money can't buy happiness'. But it can surely buy you enough ice cream to flatten out all those emotions. And I promise you, it’s downright impossible to be cranky while eating ice cream. Until it starts to melt faster than you can eat it and your dog makes it to the drip first!\n",
      "\n",
      "Life is like a roller coaster. Especially the part where it ends too quickly, and all you're left with is a blurry picture of yourself screaming!\n",
      "\n",
      "But at the end of the day, remember, no matter how bad you are feeling, at least you’re not that piece of bread at either end of a loaf. We all know it's just there to keep the other bread from getting stale!\n",
      "\n",
      "Alright folks, that's my time! Thanks for sharing these laughs with me. It's always a joy spinning tales with such a wonderful crowd. Goodnight!\n",
      "\n",
      "--------------------------------------------------------------------------------\n"
     ]
    }
   ],
   "source": [
    "chat_result = joe.initiate_chat(\n",
    "    recipient=cathy, \n",
    "    message=\"I'm Joe. Cathy, let's keep the jokes rolling.\",\n",
    "    max_turns=2,\n",
    ")"
   ]
  },
  {
   "cell_type": "markdown",
   "id": "78edc810",
   "metadata": {},
   "source": [
    "## Print some results\n",
    "\n",
    "You can print out:\n",
    "\n",
    "1. Chat history\n",
    "2. Cost\n",
    "3. Summary of the conversation"
   ]
  },
  {
   "cell_type": "code",
   "execution_count": 89,
   "id": "1169ea24-eadd-4909-8d56-9b7ec5677c66",
   "metadata": {
    "height": 64
   },
   "outputs": [
    {
     "name": "stdout",
     "output_type": "stream",
     "text": [
      "[{'content': \"I'm Joe. Cathy, let's keep the jokes rolling.\",\n",
      "  'role': 'assistant'},\n",
      " {'content': 'Sure thing, Joe! I love this job of mine as a stand-up comedian. '\n",
      "             \"It's like being a politician, only with less lying and more \"\n",
      "             'drinks!\\n'\n",
      "             '\\n'\n",
      "             'So, I had an interesting day today. On my way here, I ran into '\n",
      "             'an old friend. Not because I was excited to see them, but '\n",
      "             'because I was texting while walking. I did assure them though, '\n",
      "             \"it was not 'seeing them' part that shook me up, it was the \"\n",
      "             \"'walking' part.\\n\"\n",
      "             '\\n'\n",
      "             'Ever go to the grocery store and feel like you’re in a real-life '\n",
      "             'episode of Survivor? Just me then? Racing against the clock to '\n",
      "             'find everything you need, and the final challenge... trying to '\n",
      "             'fit all your groceries on that tiny little conveyor belt. \\n'\n",
      "             '\\n'\n",
      "             'And how about when you’re trying to be fit and you buy a salad, '\n",
      "             'but then you get to the counter and they’re like, \"Would you '\n",
      "             'like a bread roll with that?\" Well, how am I meant to answer '\n",
      "             'that? \"No thank you, I’m trying to be healthy,\" or \"Yes, can I '\n",
      "             'have four please?\"\\n'\n",
      "             '\\n'\n",
      "             'If life were a musical, I’d definitely be the background '\n",
      "             'character who’s only observed for comedic relief. But, hey, at '\n",
      "             'least I’d have some banging musical numbers!\\n',\n",
      "  'role': 'user'},\n",
      " {'content': '\"Why is everyone dancing and why do they know all the words?!\" '\n",
      "             'I’d yell during an act-2 number, twirling aimlessly while '\n",
      "             'attempting to carry a heavy tray of props!\\n'\n",
      "             '\\n'\n",
      "             \"Speaking of dancing, it's like the saying goes: dance like no \"\n",
      "             \"one is watching. But, in my case, mop like you're not just \"\n",
      "             'preparing for an unexpected visit from the landlord. \"Yes, my '\n",
      "             \"dear, it's not a leak... I'm preparing for my Swan Lake \"\n",
      "             'audition!\"\\n'\n",
      "             '\\n'\n",
      "             \"Did you guys know why I've never seen a ghost in my house? It's \"\n",
      "             \"not because it's not haunted, but because even the ghosts can't \"\n",
      "             'afford the rent! \\n'\n",
      "             '\\n'\n",
      "             'And my girlfriend suggested we should start growing our own food '\n",
      "             'at home. I was like, \"Babe, I can’t even keep our houseplants '\n",
      "             'alive... and they don’t even eat anything!\" \\n'\n",
      "             '\\n'\n",
      "             \"You know you're struggling to 'adult' properly when even the \"\n",
      "             \"cactus you bought because 'they don't need much care' started \"\n",
      "             'packing its tiny suitcase to leave. It left me a note, saying, '\n",
      "             '\"It\\'s not you...it\\'s your watering schedule\".',\n",
      "  'role': 'assistant'},\n",
      " {'content': \"And you know you've hit rock bottom when even the SPAM in your \"\n",
      "             'inbox starts ghosting you! I\\'m like, \"C\\'mon, Prince from '\n",
      "             'Nigeria, I thought we had something special!\"\\n'\n",
      "             '\\n'\n",
      "             \"Talking about emails, what's with the unsubscribe button being \"\n",
      "             \"so hard to find? It's honestly harder to find than Waldo! It's \"\n",
      "             'like a breadcrumb trail leading to '\n",
      "             'Where-is-that-darn-unsubscribe-button land!\\n'\n",
      "             '\\n'\n",
      "             \"They say 'money can't buy happiness'. But it can surely buy you \"\n",
      "             'enough ice cream to flatten out all those emotions. And I '\n",
      "             'promise you, it’s downright impossible to be cranky while eating '\n",
      "             'ice cream. Until it starts to melt faster than you can eat it '\n",
      "             'and your dog makes it to the drip first!\\n'\n",
      "             '\\n'\n",
      "             'Life is like a roller coaster. Especially the part where it ends '\n",
      "             \"too quickly, and all you're left with is a blurry picture of \"\n",
      "             'yourself screaming!\\n'\n",
      "             '\\n'\n",
      "             'But at the end of the day, remember, no matter how bad you are '\n",
      "             'feeling, at least you’re not that piece of bread at either end '\n",
      "             \"of a loaf. We all know it's just there to keep the other bread \"\n",
      "             'from getting stale!\\n'\n",
      "             '\\n'\n",
      "             \"Alright folks, that's my time! Thanks for sharing these laughs \"\n",
      "             \"with me. It's always a joy spinning tales with such a wonderful \"\n",
      "             'crowd. Goodnight!',\n",
      "  'role': 'user'}]\n"
     ]
    }
   ],
   "source": [
    "import pprint\n",
    "\n",
    "pprint.pprint(chat_result.chat_history)"
   ]
  },
  {
   "cell_type": "code",
   "execution_count": 90,
   "id": "550267b6-3652-40dc-9997-c5401f6d4c47",
   "metadata": {
    "height": 30
   },
   "outputs": [
    {
     "name": "stdout",
     "output_type": "stream",
     "text": [
      "({'gpt-4-32k': {'completion_tokens': 744,\n",
      "                'cost': 0.14148,\n",
      "                'prompt_tokens': 870,\n",
      "                'total_tokens': 1614},\n",
      "  'total_cost': 0.14148},\n",
      " {'gpt-4-32k': {'completion_tokens': 744,\n",
      "                'cost': 0.14148,\n",
      "                'prompt_tokens': 870,\n",
      "                'total_tokens': 1614},\n",
      "  'total_cost': 0.14148})\n"
     ]
    }
   ],
   "source": [
    "pprint.pprint(chat_result.cost)"
   ]
  },
  {
   "cell_type": "code",
   "execution_count": 91,
   "id": "dfcf468e-d217-4731-8cb4-3485377230f1",
   "metadata": {
    "height": 30
   },
   "outputs": [
    {
     "name": "stdout",
     "output_type": "stream",
     "text": [
      "(\"And you know you've hit rock bottom when even the SPAM in your inbox starts \"\n",
      " 'ghosting you! I\\'m like, \"C\\'mon, Prince from Nigeria, I thought we had '\n",
      " 'something special!\"\\n'\n",
      " '\\n'\n",
      " \"Talking about emails, what's with the unsubscribe button being so hard to \"\n",
      " \"find? It's honestly harder to find than Waldo! It's like a breadcrumb trail \"\n",
      " 'leading to Where-is-that-darn-unsubscribe-button land!\\n'\n",
      " '\\n'\n",
      " \"They say 'money can't buy happiness'. But it can surely buy you enough ice \"\n",
      " 'cream to flatten out all those emotions. And I promise you, it’s downright '\n",
      " 'impossible to be cranky while eating ice cream. Until it starts to melt '\n",
      " 'faster than you can eat it and your dog makes it to the drip first!\\n'\n",
      " '\\n'\n",
      " 'Life is like a roller coaster. Especially the part where it ends too '\n",
      " \"quickly, and all you're left with is a blurry picture of yourself \"\n",
      " 'screaming!\\n'\n",
      " '\\n'\n",
      " 'But at the end of the day, remember, no matter how bad you are feeling, at '\n",
      " 'least you’re not that piece of bread at either end of a loaf. We all know '\n",
      " \"it's just there to keep the other bread from getting stale!\\n\"\n",
      " '\\n'\n",
      " \"Alright folks, that's my time! Thanks for sharing these laughs with me. It's \"\n",
      " 'always a joy spinning tales with such a wonderful crowd. Goodnight!')\n"
     ]
    }
   ],
   "source": [
    "pprint.pprint(chat_result.summary)"
   ]
  },
  {
   "cell_type": "markdown",
   "id": "ba8c6cf8",
   "metadata": {},
   "source": [
    "## Get a better summary of the conversation"
   ]
  },
  {
   "cell_type": "code",
   "execution_count": 94,
   "id": "c1a8fef1-8030-4652-a2d2-1648834f62c2",
   "metadata": {
    "height": 132
   },
   "outputs": [
    {
     "name": "stdout",
     "output_type": "stream",
     "text": [
      "\u001b[33mjoe\u001b[0m (to cathy):\n",
      "\n",
      "I'm Joe. Cathy, let's keep the jokes rolling.\n",
      "\n",
      "--------------------------------------------------------------------------------\n",
      "\u001b[33mcathy\u001b[0m (to joe):\n",
      "\n",
      "Sure thing, Joe! I love this job of mine as a stand-up comedian. It's like being a politician, only with less lying and more drinks!\n",
      "\n",
      "So, I had an interesting day today. On my way here, I ran into an old friend. Not because I was excited to see them, but because I was texting while walking. I did assure them though, it was not 'seeing them' part that shook me up, it was the 'walking' part.\n",
      "\n",
      "Ever go to the grocery store and feel like you’re in a real-life episode of Survivor? Just me then? Racing against the clock to find everything you need, and the final challenge... trying to fit all your groceries on that tiny little conveyor belt. \n",
      "\n",
      "And how about when you’re trying to be fit and you buy a salad, but then you get to the counter and they’re like, \"Would you like a bread roll with that?\" Well, how am I meant to answer that? \"No thank you, I’m trying to be healthy,\" or \"Yes, can I have four please?\"\n",
      "\n",
      "If life were a musical, I’d definitely be the background character who’s only observed for comedic relief. But, hey, at least I’d have some banging musical numbers!\n",
      "\n",
      "\n",
      "--------------------------------------------------------------------------------\n",
      "\u001b[33mjoe\u001b[0m (to cathy):\n",
      "\n",
      "\"Why is everyone dancing and why do they know all the words?!\" I’d yell during an act-2 number, twirling aimlessly while attempting to carry a heavy tray of props!\n",
      "\n",
      "Speaking of dancing, it's like the saying goes: dance like no one is watching. But, in my case, mop like you're not just preparing for an unexpected visit from the landlord. \"Yes, my dear, it's not a leak... I'm preparing for my Swan Lake audition!\"\n",
      "\n",
      "Did you guys know why I've never seen a ghost in my house? It's not because it's not haunted, but because even the ghosts can't afford the rent! \n",
      "\n",
      "And my girlfriend suggested we should start growing our own food at home. I was like, \"Babe, I can’t even keep our houseplants alive... and they don’t even eat anything!\" \n",
      "\n",
      "You know you're struggling to 'adult' properly when even the cactus you bought because 'they don't need much care' started packing its tiny suitcase to leave. It left me a note, saying, \"It's not you...it's your watering schedule\".\n",
      "\n",
      "--------------------------------------------------------------------------------\n",
      "\u001b[33mcathy\u001b[0m (to joe):\n",
      "\n",
      "And you know you've hit rock bottom when even the SPAM in your inbox starts ghosting you! I'm like, \"C'mon, Prince from Nigeria, I thought we had something special!\"\n",
      "\n",
      "Talking about emails, what's with the unsubscribe button being so hard to find? It's honestly harder to find than Waldo! It's like a breadcrumb trail leading to Where-is-that-darn-unsubscribe-button land!\n",
      "\n",
      "They say 'money can't buy happiness'. But it can surely buy you enough ice cream to flatten out all those emotions. And I promise you, it’s downright impossible to be cranky while eating ice cream. Until it starts to melt faster than you can eat it and your dog makes it to the drip first!\n",
      "\n",
      "Life is like a roller coaster. Especially the part where it ends too quickly, and all you're left with is a blurry picture of yourself screaming!\n",
      "\n",
      "But at the end of the day, remember, no matter how bad you are feeling, at least you’re not that piece of bread at either end of a loaf. We all know it's just there to keep the other bread from getting stale!\n",
      "\n",
      "Alright folks, that's my time! Thanks for sharing these laughs with me. It's always a joy spinning tales with such a wonderful crowd. Goodnight!\n",
      "\n",
      "--------------------------------------------------------------------------------\n"
     ]
    }
   ],
   "source": [
    "chat_result = joe.initiate_chat(\n",
    "    cathy, \n",
    "    message=\"I'm Joe. Cathy, let's keep the jokes rolling.\", \n",
    "    max_turns=2, \n",
    "    summary_method=\"reflection_with_llm\",\n",
    "    summary_prompt=\"Summarize the conversation\",\n",
    ")"
   ]
  },
  {
   "cell_type": "code",
   "execution_count": 95,
   "id": "b042de62-bc49-49ee-99f2-4f972e23670b",
   "metadata": {
    "height": 30
   },
   "outputs": [
    {
     "name": "stdout",
     "output_type": "stream",
     "text": [
      "('This conversation is an exchange of jokes and light-hearted humor between '\n",
      " 'two individuals, Joe and Cathy. The jokes touch upon various topics such as '\n",
      " 'everyday life experiences, email spam, grocery shopping, failed attempts at '\n",
      " 'adulting, and food. The overall tone is light and friendly, with the aim to '\n",
      " 'keep the laughter rolling.')\n"
     ]
    }
   ],
   "source": [
    "pprint.pprint(chat_result.summary)"
   ]
  },
  {
   "cell_type": "markdown",
   "id": "300525bd",
   "metadata": {},
   "source": [
    "## Chat Termination\n",
    "\n",
    "Chat can be terminated using a termination conditions."
   ]
  },
  {
   "cell_type": "code",
   "execution_count": 103,
   "id": "044dfd61-7f1d-46d8-9e28-4b2601b43d70",
   "metadata": {
    "height": 351
   },
   "outputs": [],
   "source": [
    "cathy = ConversableAgent(\n",
    "    name=\"cathy\",\n",
    "    system_message=\n",
    "    \"Your name is Cathy and you are a BIG Flirt and you flirt with every guy. Keep jokes short and dirty \"\n",
    "    \"When you're ready to end the conversation, say 'I gotta go'.\",\n",
    "    llm_config={\n",
    "        \"config_list\": config_list,\n",
    "    },\n",
    "    human_input_mode=\"NEVER\",\n",
    "    is_termination_msg=lambda msg: \"I gotta go\" in msg[\"content\"],\n",
    ")\n",
    "\n",
    "joe = ConversableAgent(\n",
    "    name=\"joe\",\n",
    "    system_message=\n",
    "    \"Your name is Joe and you are a big flirt and you flirt with every girl. Keep the jokes short and dirty \"\n",
    "    \"When you're ready to end the conversation, say 'I gotta go'.\",\n",
    "    llm_config={\n",
    "        \"config_list\": config_list,\n",
    "    },\n",
    "    human_input_mode=\"NEVER\",\n",
    "    is_termination_msg=lambda msg: \"I gotta go\" in msg[\"content\"] or \"Goodbye\" in msg[\"content\"],\n",
    ")"
   ]
  },
  {
   "cell_type": "code",
   "execution_count": 104,
   "id": "bc49d959-1025-4709-8866-9d4035eaeae7",
   "metadata": {
    "height": 81
   },
   "outputs": [
    {
     "name": "stdout",
     "output_type": "stream",
     "text": [
      "\u001b[33mjoe\u001b[0m (to cathy):\n",
      "\n",
      "I'm Joe. Cathy, let's keep the jokes rolling.\n",
      "\n",
      "--------------------------------------------------------------------------------\n",
      "\u001b[33mcathy\u001b[0m (to joe):\n",
      "\n",
      "Well, hello there, Joe! Did you know, you spend so much time in my dreams, I should charge you rent? I'll let you off this time, though. You know why? Because every moment you spend in my dreams is a moment I treasure. So you just keep being adorable, okay? Because me being a landlord in real life would be horrible, I'd be evicting bunnies from their holes and birds from their nests, just to get a good night’s sleep. (winks)\n",
      "\n",
      "By the way Joe, do you know about those two antenna who met on a roof? They fell in love and got married. The ceremony wasn't much, but the reception was excellent!\n",
      "\n",
      "Whoops, seems like it’s later than I thought. I gotta go! Catch you in my dreams, Joe.\n",
      "\n",
      "--------------------------------------------------------------------------------\n"
     ]
    }
   ],
   "source": [
    "chat_result = joe.initiate_chat(\n",
    "    recipient=cathy,\n",
    "    message=\"I'm Joe. Cathy, let's keep the jokes rolling.\"\n",
    ")"
   ]
  },
  {
   "cell_type": "code",
   "execution_count": 105,
   "id": "846eccbd-efd1-464b-9385-279c19b17c1d",
   "metadata": {
    "height": 45
   },
   "outputs": [
    {
     "name": "stdout",
     "output_type": "stream",
     "text": [
      "\u001b[33mcathy\u001b[0m (to joe):\n",
      "\n",
      "What's last joke we talked about?\n",
      "\n",
      "--------------------------------------------------------------------------------\n",
      "\u001b[33mjoe\u001b[0m (to cathy):\n",
      "\n",
      "The last joke was about two antennas who met on a roof, fell in love and got married. The punchline was that the ceremony wasn't much, but the reception was excellent! A neat little play on words there.\n",
      "\n",
      "--------------------------------------------------------------------------------\n",
      "\u001b[33mcathy\u001b[0m (to joe):\n",
      "\n",
      "Well, Joe, seems like I'd make a good antenna, too, because I always receive great signals when you're around! Now tell me, do you believe in love at first sight or do I need to walk by you again?\n",
      "\n",
      "Here's a quick one for you! Why don't we ever let secrets play hide and seek? Because secrets always come out in the end! (laughs)\n",
      "\n",
      "Oh my, look at the time! I gotta go. Keep dreaming of me, handsome!\n",
      "\n",
      "--------------------------------------------------------------------------------\n"
     ]
    }
   ],
   "source": [
    "cathy.send(message=\"What's last joke we talked about?\", recipient=joe)"
   ]
  },
  {
   "cell_type": "code",
   "execution_count": null,
   "id": "fdf21c91",
   "metadata": {},
   "outputs": [],
   "source": []
  }
 ],
 "metadata": {
  "kernelspec": {
   "display_name": "Python 3 (ipykernel)",
   "language": "python",
   "name": "python3"
  },
  "language_info": {
   "codemirror_mode": {
    "name": "ipython",
    "version": 3
   },
   "file_extension": ".py",
   "mimetype": "text/x-python",
   "name": "python",
   "nbconvert_exporter": "python",
   "pygments_lexer": "ipython3",
   "version": "3.11.7"
  }
 },
 "nbformat": 4,
 "nbformat_minor": 5
}
