{
 "cells": [
  {
   "cell_type": "markdown",
   "id": "8140b161",
   "metadata": {},
   "source": [
    "# Lesson 2: Sequential Chats and Customer Onboarding"
   ]
  },
  {
   "cell_type": "markdown",
   "id": "e9d4d307",
   "metadata": {},
   "source": [
    "## Setup"
   ]
  },
  {
   "cell_type": "code",
   "execution_count": 21,
   "id": "af483494",
   "metadata": {},
   "outputs": [],
   "source": [
    "import os\n",
    "from dotenv import load_dotenv\n",
    "config_list = [\n",
    "  \n",
    "    {\n",
    "        'model': 'gpt4',\n",
    "        'api_key': ''+(os.environ.get('AZURE_OPENAI_KEY'))+'',\n",
    "        'base_url':  ''+(os.environ.get('AZURE_OPENAI_ENDPOINT'))+'',\n",
    "        'api_type': 'azure',\n",
    "        'api_version': '2024-02-01'\n",
    "    }\n",
    "]"
   ]
  },
  {
   "cell_type": "code",
   "execution_count": 22,
   "id": "24b75995-4ee4-4ff0-9c44-3943caae37e7",
   "metadata": {
    "height": 30
   },
   "outputs": [],
   "source": [
    "llm_config={\"model\": \"gpt-3.5-turbo\"}"
   ]
  },
  {
   "cell_type": "code",
   "execution_count": 23,
   "id": "20ce6700-8a33-424f-aefe-8852fd1e6d07",
   "metadata": {
    "height": 30
   },
   "outputs": [],
   "source": [
    "from autogen import ConversableAgent"
   ]
  },
  {
   "cell_type": "markdown",
   "id": "76f979f9",
   "metadata": {},
   "source": [
    "## Creating the needed agents"
   ]
  },
  {
   "cell_type": "code",
   "execution_count": 24,
   "id": "a527bb1e-dd4e-47b0-a1b7-a9cbcd87cbdb",
   "metadata": {
    "height": 200
   },
   "outputs": [],
   "source": [
    "onboarding_personal_information_agent = ConversableAgent(\n",
    "    name=\"Onboarding Personal Information Agent\",\n",
    "    system_message='''You are a helpful customer onboarding agent,\n",
    "    you are here to help new customers get started with our product.\n",
    "    Your job is to gather customer's name and location.\n",
    "    Do not ask for other information. Return 'TERMINATE' \n",
    "    when you have gathered all the information.''',\n",
    "    llm_config={\n",
    "        \"config_list\": config_list,\n",
    "    },\n",
    "    code_execution_config=False,\n",
    "    human_input_mode=\"NEVER\",\n",
    ")"
   ]
  },
  {
   "cell_type": "code",
   "execution_count": 25,
   "id": "51bc9a24-a680-444d-943b-b740bce0189d",
   "metadata": {
    "height": 215
   },
   "outputs": [],
   "source": [
    "onboarding_topic_preference_agent = ConversableAgent(\n",
    "    name=\"Onboarding Topic preference Agent\",\n",
    "    system_message='''You are a helpful customer onboarding agent,\n",
    "    you are here to help new customers get started with our product.\n",
    "    Your job is to gather customer's preferences on news topics.\n",
    "    Do not ask for other information.\n",
    "    Return 'TERMINATE' when you have gathered all the information.''',\n",
    "      llm_config={\n",
    "        \"config_list\": config_list,\n",
    "    },\n",
    "    code_execution_config=False,\n",
    "    human_input_mode=\"NEVER\",\n",
    ")"
   ]
  },
  {
   "cell_type": "code",
   "execution_count": 26,
   "id": "6755a7fc-cb17-4d62-a03f-48e260f39010",
   "metadata": {
    "height": 249
   },
   "outputs": [],
   "source": [
    "customer_engagement_agent = ConversableAgent(\n",
    "    name=\"Customer Engagement Agent\",\n",
    "    system_message='''You are a helpful customer service agent\n",
    "    here to provide fun for the customer based on the user's\n",
    "    personal information and topic preferences.\n",
    "    This could include fun facts, jokes, or interesting stories.\n",
    "    Make sure to make it engaging and fun!\n",
    "    Return 'TERMINATE' when you are done.''',\n",
    "      llm_config={\n",
    "        \"config_list\": config_list,\n",
    "    },\n",
    "    code_execution_config=False,\n",
    "    human_input_mode=\"NEVER\",\n",
    "    is_termination_msg=lambda msg: \"terminate\" in msg.get(\"content\").lower(),\n",
    ")"
   ]
  },
  {
   "cell_type": "code",
   "execution_count": 27,
   "id": "64267c0b-f7f2-46e6-ab44-6f7b5fbd9db7",
   "metadata": {
    "height": 147
   },
   "outputs": [],
   "source": [
    "customer_proxy_agent = ConversableAgent(\n",
    "    name=\"customer_proxy_agent\",\n",
    "    llm_config=False,\n",
    "    code_execution_config=False,\n",
    "    human_input_mode=\"ALWAYS\",\n",
    "    is_termination_msg=lambda msg: \"terminate\" in msg.get(\"content\").lower(),\n",
    ")"
   ]
  },
  {
   "cell_type": "markdown",
   "id": "4f240408",
   "metadata": {},
   "source": [
    "## Creating tasks\n",
    "\n",
    "Now, you can craft a series of tasks to facilitate the onboarding process."
   ]
  },
  {
   "cell_type": "code",
   "execution_count": 28,
   "id": "2b15af1d-7042-4569-a936-7966be203f05",
   "metadata": {
    "height": 606
   },
   "outputs": [],
   "source": [
    "chats = [\n",
    "    {\n",
    "        \"sender\": onboarding_personal_information_agent,\n",
    "        \"recipient\": customer_proxy_agent,\n",
    "        \"message\": \n",
    "            \"Hello, I'm here to help you get started with our product.\"\n",
    "            \"Could you tell me your name and location?\",\n",
    "        \"summary_method\": \"reflection_with_llm\",\n",
    "        \"summary_args\": {\n",
    "            \"summary_prompt\" : \"Return the customer information \"\n",
    "                             \"into as JSON object only: \"\n",
    "                             \"{'name': '', 'location': ''}\",\n",
    "        },\n",
    "        \"max_turns\": 2,\n",
    "        \"clear_history\" : True\n",
    "    },\n",
    "    {\n",
    "        \"sender\": onboarding_topic_preference_agent,\n",
    "        \"recipient\": customer_proxy_agent,\n",
    "        \"message\": \n",
    "                \"Great! Could you tell me what topics you are \"\n",
    "                \"interested in reading about?\",\n",
    "        \"summary_method\": \"reflection_with_llm\",\n",
    "        \"max_turns\": 1,\n",
    "        \"clear_history\" : False\n",
    "    },\n",
    "    {\n",
    "        \"sender\": customer_proxy_agent,\n",
    "        \"recipient\": customer_engagement_agent,\n",
    "        \"message\": \"Let's find something fun to read.\",\n",
    "        \"max_turns\": 1,\n",
    "        \"summary_method\": \"reflection_with_llm\",\n",
    "    },\n",
    "]"
   ]
  },
  {
   "cell_type": "markdown",
   "id": "862a066b",
   "metadata": {},
   "source": [
    "## Start the onboarding process"
   ]
  },
  {
   "cell_type": "markdown",
   "id": "e0fa8f99",
   "metadata": {},
   "source": [
    "**Note**: You might get a slightly different response than what's shown in the video. Feel free to try different inputs, such as name, location, and preferences."
   ]
  },
  {
   "cell_type": "code",
   "execution_count": 32,
   "id": "8d3a8e74",
   "metadata": {},
   "outputs": [
    {
     "name": "stdout",
     "output_type": "stream",
     "text": [
      "\u001b[34m\n",
      "********************************************************************************\u001b[0m\n",
      "\u001b[34mStarting a new chat....\n",
      "\n",
      "Message:\n",
      "Hello, I'm here to help you get started with our product.Could you tell me your name and location?\n",
      "\n",
      "Carryover: \n",
      "\u001b[0m\n",
      "\u001b[34m\n",
      "********************************************************************************\u001b[0m\n",
      "\u001b[33mOnboarding Personal Information Agent\u001b[0m (to customer_proxy_agent):\n",
      "\n",
      "Hello, I'm here to help you get started with our product.Could you tell me your name and location?\n",
      "\n",
      "--------------------------------------------------------------------------------\n",
      "\u001b[33mcustomer_proxy_agent\u001b[0m (to Onboarding Personal Information Agent):\n",
      "\n",
      "anurag from jersey city\n",
      "\n",
      "--------------------------------------------------------------------------------\n",
      "\u001b[33mOnboarding Personal Information Agent\u001b[0m (to customer_proxy_agent):\n",
      "\n",
      "Nice to meet you, Anurag from Jersey City! That's all the information we need for now. \n",
      "TERMINATE\n",
      "\n",
      "--------------------------------------------------------------------------------\n",
      "\u001b[33mcustomer_proxy_agent\u001b[0m (to Onboarding Personal Information Agent):\n",
      "\n",
      "nice to meet you\n",
      "\n",
      "--------------------------------------------------------------------------------\n",
      "\u001b[34m\n",
      "********************************************************************************\u001b[0m\n",
      "\u001b[34mStarting a new chat....\n",
      "\n",
      "Message:\n",
      "Great! Could you tell me what topics you are interested in reading about?\n",
      "\n",
      "Carryover: \n",
      "{\n",
      "\"name\": \"Anurag\",\n",
      "\"location\": \"New York\"\n",
      "}\n",
      "{\n",
      "  \"name\": \"Anurag\",\n",
      "  \"location\": \"Jersey City\"\n",
      "}\u001b[0m\n",
      "\u001b[34m\n",
      "********************************************************************************\u001b[0m\n",
      "\u001b[33mOnboarding Topic preference Agent\u001b[0m (to customer_proxy_agent):\n",
      "\n",
      "Great! Could you tell me what topics you are interested in reading about?\n",
      "Context: \n",
      "{\n",
      "\"name\": \"Anurag\",\n",
      "\"location\": \"New York\"\n",
      "}\n",
      "{\n",
      "  \"name\": \"Anurag\",\n",
      "  \"location\": \"Jersey City\"\n",
      "}\n",
      "\n",
      "--------------------------------------------------------------------------------\n",
      "\u001b[33mcustomer_proxy_agent\u001b[0m (to Onboarding Topic preference Agent):\n",
      "\n",
      "science fiction\n",
      "\n",
      "--------------------------------------------------------------------------------\n",
      "\u001b[34m\n",
      "********************************************************************************\u001b[0m\n",
      "\u001b[34mStarting a new chat....\n",
      "\n",
      "Message:\n",
      "Let's find something fun to read.\n",
      "\n",
      "Carryover: \n",
      "{\n",
      "\"name\": \"Anurag\",\n",
      "\"location\": \"New York\"\n",
      "}\n",
      "The assistant needs to ask Anurag about his reading interests.\n",
      "{\n",
      "  \"name\": \"Anurag\",\n",
      "  \"location\": \"Jersey City\"\n",
      "}\n",
      "The assistant is interested in reading about science fiction.\u001b[0m\n",
      "\u001b[34m\n",
      "********************************************************************************\u001b[0m\n",
      "\u001b[33mcustomer_proxy_agent\u001b[0m (to Customer Engagement Agent):\n",
      "\n",
      "Let's find something fun to read.\n",
      "Context: \n",
      "{\n",
      "\"name\": \"Anurag\",\n",
      "\"location\": \"New York\"\n",
      "}\n",
      "The assistant needs to ask Anurag about his reading interests.\n",
      "{\n",
      "  \"name\": \"Anurag\",\n",
      "  \"location\": \"Jersey City\"\n",
      "}\n",
      "The assistant is interested in reading about science fiction.\n",
      "\n",
      "--------------------------------------------------------------------------------\n",
      "\u001b[33mCustomer Engagement Agent\u001b[0m (to customer_proxy_agent):\n",
      "\n",
      "Hello Anurag! It's a pleasure to engage with a fellow science fiction enthusiast from Jersey City. You're in for a treat today!\n",
      "\n",
      "Did you know that Jersey City appears in many science fiction stories due to its proximity to New York? It's a popular spot for alien invasions! But don't worry, here's a lighter, fun fact - There is a water fountain in Jersey City that if you drink from, it is said to have the ability to transport you to a parallel universe! Don't forget to try it out. \n",
      "\n",
      "Here's a science fiction joke for you:\n",
      "Why don’t scientists trust atoms?\n",
      "Because they make up everything!\n",
      "\n",
      "And a short Sci-Fi story:\n",
      "In a world where machines had outgrown humans, everyone thought humans would be extinct. However, the machines decided that to truly evolve, they needed emotions, creativity, and intuition - everything that made us human. Instead of a war, the age of symbiosis started, where humans and machines lived together for mutual benefits. And you know what? Turns out, the first machine-human bond was formed in our very own Jersey City!\n",
      "\n",
      "I hope this added a touch of fun to your day, Anurag! Let me know if you'd like more fun facts, jokes, or stories. We're on a fun journey here! If not, feel free to share your preferred topics, and I'll prepare my database of fun for you!\n",
      "\n",
      "TERMINATE\n",
      "\n",
      "--------------------------------------------------------------------------------\n"
     ]
    }
   ],
   "source": [
    "from autogen import initiate_chats\n",
    "\n",
    "chat_results = initiate_chats(chats)"
   ]
  },
  {
   "cell_type": "markdown",
   "id": "4f9e2713",
   "metadata": {},
   "source": [
    "## Print out the summary"
   ]
  },
  {
   "cell_type": "code",
   "execution_count": 33,
   "id": "1e122f8a-1ceb-4635-9672-662114b0552a",
   "metadata": {
    "height": 64
   },
   "outputs": [
    {
     "name": "stdout",
     "output_type": "stream",
     "text": [
      "{\n",
      "  \"name\": \"Anurag\",\n",
      "  \"location\": \"Jersey City\"\n",
      "}\n",
      "\n",
      "\n",
      "The assistant is interested in reading about science fiction.\n",
      "\n",
      "\n",
      "The assistant kept the conversation light and engaging by incorporating local details related to Anurag's location of Jersey City. The assistant also shared a science fiction-themed joke and a short science fiction story, adding humor and intrigue into the conversation. However, it's not clear what Anurag's reading interests are, as the assistant didn't ask about them.\n",
      "\n",
      "\n"
     ]
    }
   ],
   "source": [
    "for chat_result in chat_results:\n",
    "    print(chat_result.summary)\n",
    "    print(\"\\n\")"
   ]
  },
  {
   "cell_type": "markdown",
   "id": "a674c4eb",
   "metadata": {},
   "source": [
    "## Print out the cost"
   ]
  },
  {
   "cell_type": "code",
   "execution_count": 34,
   "id": "8b82a10a-afe5-4ba3-97b4-41c8c14b739f",
   "metadata": {
    "height": 64
   },
   "outputs": [
    {
     "name": "stdout",
     "output_type": "stream",
     "text": [
      "({'total_cost': 0.03504, 'gpt-4-32k': {'cost': 0.03504, 'prompt_tokens': 406, 'completion_tokens': 89, 'total_tokens': 495}}, {'total_cost': 0.03504, 'gpt-4-32k': {'cost': 0.03504, 'prompt_tokens': 406, 'completion_tokens': 89, 'total_tokens': 495}})\n",
      "\n",
      "\n",
      "({'total_cost': 0.014519999999999998, 'gpt-4-32k': {'cost': 0.014519999999999998, 'prompt_tokens': 196, 'completion_tokens': 23, 'total_tokens': 219}}, {'total_cost': 0.014519999999999998, 'gpt-4-32k': {'cost': 0.014519999999999998, 'prompt_tokens': 196, 'completion_tokens': 23, 'total_tokens': 219}})\n",
      "\n",
      "\n",
      "({'total_cost': 0.10511999999999999, 'gpt-4-32k': {'cost': 0.10511999999999999, 'prompt_tokens': 812, 'completion_tokens': 470, 'total_tokens': 1282}}, {'total_cost': 0.10511999999999999, 'gpt-4-32k': {'cost': 0.10511999999999999, 'prompt_tokens': 812, 'completion_tokens': 470, 'total_tokens': 1282}})\n",
      "\n",
      "\n"
     ]
    }
   ],
   "source": [
    "for chat_result in chat_results:\n",
    "    print(chat_result.cost)\n",
    "    print(\"\\n\")"
   ]
  },
  {
   "cell_type": "code",
   "execution_count": null,
   "id": "12c1d8f3",
   "metadata": {},
   "outputs": [],
   "source": []
  }
 ],
 "metadata": {
  "kernelspec": {
   "display_name": "Python 3 (ipykernel)",
   "language": "python",
   "name": "python3"
  },
  "language_info": {
   "codemirror_mode": {
    "name": "ipython",
    "version": 3
   },
   "file_extension": ".py",
   "mimetype": "text/x-python",
   "name": "python",
   "nbconvert_exporter": "python",
   "pygments_lexer": "ipython3",
   "version": "3.11.7"
  }
 },
 "nbformat": 4,
 "nbformat_minor": 5
}
