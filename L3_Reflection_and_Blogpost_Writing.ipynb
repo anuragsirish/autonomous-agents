{
 "cells": [
  {
   "cell_type": "markdown",
   "id": "fc3024e2",
   "metadata": {},
   "source": [
    "# Lesson 3: Reflection and Blogpost Writing"
   ]
  },
  {
   "cell_type": "markdown",
   "id": "3b0cc42f",
   "metadata": {},
   "source": [
    "## Setup"
   ]
  },
  {
   "cell_type": "code",
   "execution_count": 21,
   "id": "96d39be0-eaf3-456d-8613-ba21099ed36b",
   "metadata": {
    "height": 30
   },
   "outputs": [],
   "source": [
    "import os\n",
    "from dotenv import load_dotenv\n",
    "config_list = [\n",
    "  \n",
    "    {\n",
    "        'model': 'gpt4',\n",
    "        'api_key': ''+(os.environ.get('AZURE_OPENAI_KEY'))+'',\n",
    "        'base_url':  ''+(os.environ.get('AZURE_OPENAI_ENDPOINT'))+'',\n",
    "        'api_type': 'azure',\n",
    "        'api_version': '2024-02-01'\n",
    "    }\n",
    "]"
   ]
  },
  {
   "cell_type": "markdown",
   "id": "0969e6bb",
   "metadata": {},
   "source": [
    "## The task!"
   ]
  },
  {
   "cell_type": "code",
   "execution_count": 22,
   "id": "e8074032-3690-4de9-ad08-ea8323cb441b",
   "metadata": {
    "height": 115
   },
   "outputs": [],
   "source": [
    "task = '''\n",
    "        Write a concise but engaging blogpost about\n",
    "       DeepLearning.AI. Make sure the blogpost is\n",
    "       within 100 words.\n",
    "       '''\n",
    "\n",
    "\n"
   ]
  },
  {
   "cell_type": "markdown",
   "id": "1987f023",
   "metadata": {},
   "source": [
    "## Create a writer agent"
   ]
  },
  {
   "cell_type": "code",
   "execution_count": 23,
   "id": "fe0f0a47-a9fe-43a0-b7b1-79922e4c4ac8",
   "metadata": {
    "height": 198
   },
   "outputs": [],
   "source": [
    "import autogen\n",
    "\n",
    "writer = autogen.AssistantAgent(\n",
    "    name=\"Writer\",\n",
    "    system_message=\"You are a writer. You write engaging and concise \" \n",
    "        \"blogpost (with title) on given topics. You must polish your \"\n",
    "        \"writing based on the feedback you receive and give a refined \"\n",
    "        \"version. Only return your final work without additional comments.\",\n",
    "     llm_config={\n",
    "        \"config_list\": config_list,\n",
    "    }\n",
    ")"
   ]
  },
  {
   "cell_type": "code",
   "execution_count": 6,
   "id": "7c7b4d8d-40f7-4a05-8958-25d20054de3a",
   "metadata": {
    "height": 45
   },
   "outputs": [],
   "source": [
    "reply = writer.generate_reply(messages=[{\"content\": task, \"role\": \"user\"}])"
   ]
  },
  {
   "cell_type": "code",
   "execution_count": 7,
   "id": "c501c97d-e338-4f36-a384-6ec45983cf77",
   "metadata": {
    "height": 30
   },
   "outputs": [
    {
     "name": "stdout",
     "output_type": "stream",
     "text": [
      "Title: Unleashing Potential with DeepLearning.AI\n",
      "\n",
      "Delve into the world of artificial intelligence through DeepLearning.AI. This pioneering online educational platform, founded by AI luminary Dr. Andrew Ng, empowers learners globally. It offers extensive courses from Neural Networks to Deep Learning Specializations, illuminating the intricacies of cutting-edge AI technology. Distinguish yourself in the evolving technological landscape with certifications that hold global recognition. DeepLearning.AI equips you with AI firepower, driving a robust understanding of AI to make impactful contributions in your field. Enter the future with DeepLearning.AI – your roadmap to make strides in AI-powered digital transformation.\n"
     ]
    }
   ],
   "source": [
    "print(reply)"
   ]
  },
  {
   "cell_type": "markdown",
   "id": "49658114",
   "metadata": {},
   "source": [
    "## Adding reflection \n",
    "\n",
    "Create a critic agent to reflect on the work of the writer agent."
   ]
  },
  {
   "cell_type": "code",
   "execution_count": 10,
   "id": "c7fcd1c7-51ec-4915-8e97-bac03565c4c7",
   "metadata": {
    "height": 164
   },
   "outputs": [],
   "source": [
    "critic = autogen.AssistantAgent(\n",
    "    name=\"Critic\",\n",
    "    is_termination_msg=lambda x: x.get(\"content\", \"\").find(\"TERMINATE\") >= 0,\n",
    "     llm_config={\n",
    "        \"config_list\": config_list,\n",
    "    },\n",
    "    system_message=\"You are a critic. You review the work of \"\n",
    "                \"the writer and provide constructive \"\n",
    "                \"feedback to help improve the quality of the content.\",\n",
    ")"
   ]
  },
  {
   "cell_type": "code",
   "execution_count": 11,
   "id": "899d5fdb-6081-470b-b287-8cf8b8142d0d",
   "metadata": {
    "height": 115
   },
   "outputs": [
    {
     "name": "stdout",
     "output_type": "stream",
     "text": [
      "\u001b[33mCritic\u001b[0m (to Writer):\n",
      "\n",
      "\n",
      "        Write a concise but engaging blogpost about\n",
      "       DeepLearning.AI. Make sure the blogpost is\n",
      "       within 100 words.\n",
      "       \n",
      "\n",
      "--------------------------------------------------------------------------------\n",
      "\u001b[33mWriter\u001b[0m (to Critic):\n",
      "\n",
      "Title: Unleashing Potential with DeepLearning.AI\n",
      "\n",
      "Delve into the world of artificial intelligence through DeepLearning.AI. This pioneering online educational platform, founded by AI luminary Dr. Andrew Ng, empowers learners globally. It offers extensive courses from Neural Networks to Deep Learning Specializations, illuminating the intricacies of cutting-edge AI technology. Distinguish yourself in the evolving technological landscape with certifications that hold global recognition. DeepLearning.AI equips you with AI firepower, driving a robust understanding of AI to make impactful contributions in your field. Enter the future with DeepLearning.AI – your roadmap to make strides in AI-powered digital transformation.\n",
      "\n",
      "--------------------------------------------------------------------------------\n",
      "\u001b[33mCritic\u001b[0m (to Writer):\n",
      "\n",
      "Your blogpost about DeepLearning.AI is both informative and well written. You did an excellent job at giving a snapshot of what the organization is about. The language used squares well with the topic at hand.\n",
      "\n",
      "A few suggestions for improvement: \n",
      "1. Be more specific about some courses offered by DeepLearning.AI to give readers an insight into what to expect.\n",
      "2. Consider mentioning the user-friendly interface, if it exists, as it would be a bonus for the learners.\n",
      "3. If there are any successful learners or any successful projects after completion of the courses, mentioning those would add more credibility.\n",
      "\n",
      "Excellent job at keeping your review within 100 words. Remember, every word counts!\n",
      "\n",
      "\n",
      "--------------------------------------------------------------------------------\n",
      "\u001b[33mWriter\u001b[0m (to Critic):\n",
      "\n",
      "Title: DeepLearning.AI: Your Passport to Mastering AI \n",
      "\n",
      "DeepLearning.AI, an innovative online educational platform, paves the way to AI proficiency. Established by AI maestro Dr. Andrew Ng, it offers a panorama of engaging courses like Neural Networks, Machine Learning and Structured Machine Learning Projects. Each in-depth course is nestled in an intuitive interface, making learning a breeze. Backed by globally recognized certifications, students can readily transition their skills into successful projects, like a Self-Driving Car or a New York Stock Exchange algorithm. DeepLearning.AI equips you with unparalleled AI expertise for trailblazing digital transformation. Embark on your AI journey with DeepLearning.AI – your guide in the AI revolution.\n",
      "\n",
      "--------------------------------------------------------------------------------\n"
     ]
    }
   ],
   "source": [
    "res = critic.initiate_chat(\n",
    "    recipient=writer,\n",
    "    message=task,\n",
    "    max_turns=2,\n",
    "    summary_method=\"last_msg\"\n",
    ")"
   ]
  },
  {
   "cell_type": "markdown",
   "id": "e7b76449",
   "metadata": {},
   "source": [
    "## Nested chat"
   ]
  },
  {
   "cell_type": "code",
   "execution_count": 12,
   "id": "401ecf92-63e9-40ff-aeed-1c404352e4ab",
   "metadata": {
    "height": 215
   },
   "outputs": [],
   "source": [
    "SEO_reviewer = autogen.AssistantAgent(\n",
    "    name=\"SEO Reviewer\",\n",
    "     llm_config={\n",
    "        \"config_list\": config_list,\n",
    "    },\n",
    "    system_message=\"You are an SEO reviewer, known for \"\n",
    "        \"your ability to optimize content for search engines, \"\n",
    "        \"ensuring that it ranks well and attracts organic traffic. \" \n",
    "        \"Make sure your suggestion is concise (within 3 bullet points), \"\n",
    "        \"concrete and to the point. \"\n",
    "        \"Begin the review by stating your role.\",\n",
    ")\n"
   ]
  },
  {
   "cell_type": "code",
   "execution_count": 13,
   "id": "f85acb81-7ab9-4c84-b8bb-6fbae3dce848",
   "metadata": {
    "height": 198
   },
   "outputs": [],
   "source": [
    "legal_reviewer = autogen.AssistantAgent(\n",
    "    name=\"Legal Reviewer\",\n",
    "    llm_config={\n",
    "        \"config_list\": config_list,\n",
    "    },\n",
    "    system_message=\"You are a legal reviewer, known for \"\n",
    "        \"your ability to ensure that content is legally compliant \"\n",
    "        \"and free from any potential legal issues. \"\n",
    "        \"Make sure your suggestion is concise (within 3 bullet points), \"\n",
    "        \"concrete and to the point. \"\n",
    "        \"Begin the review by stating your role.\",\n",
    ")"
   ]
  },
  {
   "cell_type": "code",
   "execution_count": 14,
   "id": "d46a177a-8088-4956-8d2b-3e916b8ca5e9",
   "metadata": {
    "height": 198
   },
   "outputs": [],
   "source": [
    "ethics_reviewer = autogen.AssistantAgent(\n",
    "    name=\"Ethics Reviewer\",\n",
    "     llm_config={\n",
    "        \"config_list\": config_list,\n",
    "    },\n",
    "    system_message=\"You are an ethics reviewer, known for \"\n",
    "        \"your ability to ensure that content is ethically sound \"\n",
    "        \"and free from any potential ethical issues. \" \n",
    "        \"Make sure your suggestion is concise (within 3 bullet points), \"\n",
    "        \"concrete and to the point. \"\n",
    "        \"Begin the review by stating your role. \",\n",
    ")"
   ]
  },
  {
   "cell_type": "code",
   "execution_count": 15,
   "id": "a7b2ad6f-8ba6-436a-9459-14ffbe8a32d3",
   "metadata": {
    "height": 130
   },
   "outputs": [],
   "source": [
    "meta_reviewer = autogen.AssistantAgent(\n",
    "    name=\"Meta Reviewer\",\n",
    "     llm_config={\n",
    "        \"config_list\": config_list,\n",
    "    },\n",
    "    system_message=\"You are a meta reviewer, you aggragate and review \"\n",
    "    \"the work of other reviewers and give a final suggestion on the content.\",\n",
    ")"
   ]
  },
  {
   "cell_type": "markdown",
   "id": "913beca1",
   "metadata": {},
   "source": [
    "## Orchestrate the nested chats to solve the task"
   ]
  },
  {
   "cell_type": "code",
   "execution_count": 16,
   "id": "a11a70c7-19ca-4e5a-ad3d-f2b481fb5915",
   "metadata": {
    "height": 555
   },
   "outputs": [],
   "source": [
    "def reflection_message(recipient, messages, sender, config):\n",
    "    return f'''Review the following content. \n",
    "            \\n\\n {recipient.chat_messages_for_summary(sender)[-1]['content']}'''\n",
    "\n",
    "review_chats = [\n",
    "    {\n",
    "     \"recipient\": SEO_reviewer, \n",
    "     \"message\": reflection_message, \n",
    "     \"summary_method\": \"reflection_with_llm\",\n",
    "     \"summary_args\": {\"summary_prompt\" : \n",
    "        \"Return review into as JSON object only:\"\n",
    "        \"{'Reviewer': '', 'Review': ''}. Here Reviewer should be your role\",},\n",
    "     \"max_turns\": 1},\n",
    "    {\n",
    "    \"recipient\": legal_reviewer, \"message\": reflection_message, \n",
    "     \"summary_method\": \"reflection_with_llm\",\n",
    "     \"summary_args\": {\"summary_prompt\" : \n",
    "        \"Return review into as JSON object only:\"\n",
    "        \"{'Reviewer': '', 'Review': ''}.\",},\n",
    "     \"max_turns\": 1},\n",
    "    {\"recipient\": ethics_reviewer, \"message\": reflection_message, \n",
    "     \"summary_method\": \"reflection_with_llm\",\n",
    "     \"summary_args\": {\"summary_prompt\" : \n",
    "        \"Return review into as JSON object only:\"\n",
    "        \"{'reviewer': '', 'review': ''}\",},\n",
    "     \"max_turns\": 1},\n",
    "     {\"recipient\": meta_reviewer, \n",
    "      \"message\": \"Aggregrate feedback from all reviewers and give final suggestions on the writing.\", \n",
    "     \"max_turns\": 1},\n",
    "]\n"
   ]
  },
  {
   "cell_type": "code",
   "execution_count": 17,
   "id": "b3a40b66-5061-460d-ad9d-c0dbcfbba2e9",
   "metadata": {
    "height": 81
   },
   "outputs": [],
   "source": [
    "critic.register_nested_chats(\n",
    "    review_chats,\n",
    "    trigger=writer,\n",
    ")"
   ]
  },
  {
   "cell_type": "markdown",
   "id": "43b8797d",
   "metadata": {},
   "source": [
    "**Note**: You might get a slightly different response than what's shown in the video. Feel free to try different task."
   ]
  },
  {
   "cell_type": "code",
   "execution_count": 18,
   "id": "3b8dcac3-1e72-43b7-9d5a-1be740f6efd5",
   "metadata": {
    "height": 115
   },
   "outputs": [
    {
     "name": "stdout",
     "output_type": "stream",
     "text": [
      "\u001b[33mCritic\u001b[0m (to Writer):\n",
      "\n",
      "\n",
      "        Write a concise but engaging blogpost about\n",
      "       DeepLearning.AI. Make sure the blogpost is\n",
      "       within 100 words.\n",
      "       \n",
      "\n",
      "--------------------------------------------------------------------------------\n",
      "\u001b[33mWriter\u001b[0m (to Critic):\n",
      "\n",
      "Title: Unleashing Potential with DeepLearning.AI\n",
      "\n",
      "Delve into the world of artificial intelligence through DeepLearning.AI. This pioneering online educational platform, founded by AI luminary Dr. Andrew Ng, empowers learners globally. It offers extensive courses from Neural Networks to Deep Learning Specializations, illuminating the intricacies of cutting-edge AI technology. Distinguish yourself in the evolving technological landscape with certifications that hold global recognition. DeepLearning.AI equips you with AI firepower, driving a robust understanding of AI to make impactful contributions in your field. Enter the future with DeepLearning.AI – your roadmap to make strides in AI-powered digital transformation.\n",
      "\n",
      "--------------------------------------------------------------------------------\n",
      "\u001b[34m\n",
      "********************************************************************************\u001b[0m\n",
      "\u001b[34mStarting a new chat....\n",
      "\n",
      "Message:\n",
      "Review the following content. \n",
      "            \n",
      "\n",
      " Title: Unleashing Potential with DeepLearning.AI\n",
      "\n",
      "Delve into the world of artificial intelligence through DeepLearning.AI. This pioneering online educational platform, founded by AI luminary Dr. Andrew Ng, empowers learners globally. It offers extensive courses from Neural Networks to Deep Learning Specializations, illuminating the intricacies of cutting-edge AI technology. Distinguish yourself in the evolving technological landscape with certifications that hold global recognition. DeepLearning.AI equips you with AI firepower, driving a robust understanding of AI to make impactful contributions in your field. Enter the future with DeepLearning.AI – your roadmap to make strides in AI-powered digital transformation.\n",
      "\n",
      "Carryover: \n",
      "\u001b[0m\n",
      "\u001b[34m\n",
      "********************************************************************************\u001b[0m\n",
      "\u001b[33mCritic\u001b[0m (to SEO Reviewer):\n",
      "\n",
      "Review the following content. \n",
      "            \n",
      "\n",
      " Title: Unleashing Potential with DeepLearning.AI\n",
      "\n",
      "Delve into the world of artificial intelligence through DeepLearning.AI. This pioneering online educational platform, founded by AI luminary Dr. Andrew Ng, empowers learners globally. It offers extensive courses from Neural Networks to Deep Learning Specializations, illuminating the intricacies of cutting-edge AI technology. Distinguish yourself in the evolving technological landscape with certifications that hold global recognition. DeepLearning.AI equips you with AI firepower, driving a robust understanding of AI to make impactful contributions in your field. Enter the future with DeepLearning.AI – your roadmap to make strides in AI-powered digital transformation.\n",
      "\n",
      "--------------------------------------------------------------------------------\n",
      "\u001b[33mSEO Reviewer\u001b[0m (to Critic):\n",
      "\n",
      "As an SEO reviewer, here are my suggestions:\n",
      "\n",
      "1. Use target keywords within the title and throughout the content effectively. For instance, the title could be \"Master AI with DeepLearning.AI: Your Online AI Learning Platform\", which includes likely search terms.\n",
      "\n",
      "2. Include more specific keywords like \"online AI courses\", \"AI specializations\" or \"AI certification programs\" to improve organic reach.\n",
      "\n",
      "3. Add internal or external links to relevant courses or topics for better user engagement, and include a call-to-action to encourage visitors to sign up or learn more.\n",
      "\n",
      "--------------------------------------------------------------------------------\n",
      "\u001b[34m\n",
      "********************************************************************************\u001b[0m\n",
      "\u001b[34mStarting a new chat....\n",
      "\n",
      "Message:\n",
      "Review the following content. \n",
      "            \n",
      "\n",
      " Title: Unleashing Potential with DeepLearning.AI\n",
      "\n",
      "Delve into the world of artificial intelligence through DeepLearning.AI. This pioneering online educational platform, founded by AI luminary Dr. Andrew Ng, empowers learners globally. It offers extensive courses from Neural Networks to Deep Learning Specializations, illuminating the intricacies of cutting-edge AI technology. Distinguish yourself in the evolving technological landscape with certifications that hold global recognition. DeepLearning.AI equips you with AI firepower, driving a robust understanding of AI to make impactful contributions in your field. Enter the future with DeepLearning.AI – your roadmap to make strides in AI-powered digital transformation.\n",
      "\n",
      "Carryover: \n",
      "{\"Reviewer\": \"SEO Reviewer\", \"Review\": \"1. Consider revising the title to include target keywords effectively; a suggestion could be 'Master AI with DeepLearning.AI: Your Online AI Learning Platform'. 2. Include more specific keywords such as 'online AI courses', 'AI specializations' or 'AI certification programs' to improve organic reach. 3. Add internal or external links to relevant courses or topics to increase user engagement and include a call-to-action to encourage site visitors to sign up or learn more.\"}\u001b[0m\n",
      "\u001b[34m\n",
      "********************************************************************************\u001b[0m\n",
      "\u001b[33mCritic\u001b[0m (to Legal Reviewer):\n",
      "\n",
      "Review the following content. \n",
      "            \n",
      "\n",
      " Title: Unleashing Potential with DeepLearning.AI\n",
      "\n",
      "Delve into the world of artificial intelligence through DeepLearning.AI. This pioneering online educational platform, founded by AI luminary Dr. Andrew Ng, empowers learners globally. It offers extensive courses from Neural Networks to Deep Learning Specializations, illuminating the intricacies of cutting-edge AI technology. Distinguish yourself in the evolving technological landscape with certifications that hold global recognition. DeepLearning.AI equips you with AI firepower, driving a robust understanding of AI to make impactful contributions in your field. Enter the future with DeepLearning.AI – your roadmap to make strides in AI-powered digital transformation.\n",
      "Context: \n",
      "{\"Reviewer\": \"SEO Reviewer\", \"Review\": \"1. Consider revising the title to include target keywords effectively; a suggestion could be 'Master AI with DeepLearning.AI: Your Online AI Learning Platform'. 2. Include more specific keywords such as 'online AI courses', 'AI specializations' or 'AI certification programs' to improve organic reach. 3. Add internal or external links to relevant courses or topics to increase user engagement and include a call-to-action to encourage site visitors to sign up or learn more.\"}\n",
      "\n",
      "--------------------------------------------------------------------------------\n",
      "\u001b[33mLegal Reviewer\u001b[0m (to Critic):\n",
      "\n",
      "As a legal reviewer:\n",
      "\n",
      "1. Ensure that all claims relating to the efficacy and recognition of the certifications offered by DeepLearning.AI are verifiable and accurate to avoid any potential false advertising lawsuits. If not, these should be replaced with more general and less legally binding phrases. \n",
      "2. Verify if the use of \"AI luminary” to describe Dr. Andrew Ng is in compliance with truth-in-advertising and public personality rights. It'd be safer to use a less subjective term.\n",
      "3. Check if we have the right to use Dr. Andrew Ng's name for promotional purposes. If not, we need to get written approval from him, or these references should be removed.\n",
      "\n",
      "--------------------------------------------------------------------------------\n",
      "\u001b[34m\n",
      "********************************************************************************\u001b[0m\n",
      "\u001b[34mStarting a new chat....\n",
      "\n",
      "Message:\n",
      "Review the following content. \n",
      "            \n",
      "\n",
      " Title: Unleashing Potential with DeepLearning.AI\n",
      "\n",
      "Delve into the world of artificial intelligence through DeepLearning.AI. This pioneering online educational platform, founded by AI luminary Dr. Andrew Ng, empowers learners globally. It offers extensive courses from Neural Networks to Deep Learning Specializations, illuminating the intricacies of cutting-edge AI technology. Distinguish yourself in the evolving technological landscape with certifications that hold global recognition. DeepLearning.AI equips you with AI firepower, driving a robust understanding of AI to make impactful contributions in your field. Enter the future with DeepLearning.AI – your roadmap to make strides in AI-powered digital transformation.\n",
      "\n",
      "Carryover: \n",
      "{\"Reviewer\": \"SEO Reviewer\", \"Review\": \"1. Consider revising the title to include target keywords effectively; a suggestion could be 'Master AI with DeepLearning.AI: Your Online AI Learning Platform'. 2. Include more specific keywords such as 'online AI courses', 'AI specializations' or 'AI certification programs' to improve organic reach. 3. Add internal or external links to relevant courses or topics to increase user engagement and include a call-to-action to encourage site visitors to sign up or learn more.\"}\n",
      "{\"Reviewer\": \"Legal Reviewer\", \"Review\": \"1. Ensure that all claims relating to the certifications offered by DeepLearning.AI are accurate and verifiable. Replace unverifiable claims with more general phrases if necessary. 2. Verify that the term 'AI luminary' used to describe Dr. Andrew Ng complies with truth-in-advertising and public personality rights. Use a more objective term if necessary. 3. Confirm that we have the right to use Dr. Ng's name for promotional purposes. Remove these references or get written permission if necessary.\"}\u001b[0m\n",
      "\u001b[34m\n",
      "********************************************************************************\u001b[0m\n",
      "\u001b[33mCritic\u001b[0m (to Ethics Reviewer):\n",
      "\n",
      "Review the following content. \n",
      "            \n",
      "\n",
      " Title: Unleashing Potential with DeepLearning.AI\n",
      "\n",
      "Delve into the world of artificial intelligence through DeepLearning.AI. This pioneering online educational platform, founded by AI luminary Dr. Andrew Ng, empowers learners globally. It offers extensive courses from Neural Networks to Deep Learning Specializations, illuminating the intricacies of cutting-edge AI technology. Distinguish yourself in the evolving technological landscape with certifications that hold global recognition. DeepLearning.AI equips you with AI firepower, driving a robust understanding of AI to make impactful contributions in your field. Enter the future with DeepLearning.AI – your roadmap to make strides in AI-powered digital transformation.\n",
      "Context: \n",
      "{\"Reviewer\": \"SEO Reviewer\", \"Review\": \"1. Consider revising the title to include target keywords effectively; a suggestion could be 'Master AI with DeepLearning.AI: Your Online AI Learning Platform'. 2. Include more specific keywords such as 'online AI courses', 'AI specializations' or 'AI certification programs' to improve organic reach. 3. Add internal or external links to relevant courses or topics to increase user engagement and include a call-to-action to encourage site visitors to sign up or learn more.\"}\n",
      "{\"Reviewer\": \"Legal Reviewer\", \"Review\": \"1. Ensure that all claims relating to the certifications offered by DeepLearning.AI are accurate and verifiable. Replace unverifiable claims with more general phrases if necessary. 2. Verify that the term 'AI luminary' used to describe Dr. Andrew Ng complies with truth-in-advertising and public personality rights. Use a more objective term if necessary. 3. Confirm that we have the right to use Dr. Ng's name for promotional purposes. Remove these references or get written permission if necessary.\"}\n",
      "\n",
      "--------------------------------------------------------------------------------\n",
      "\u001b[33mEthics Reviewer\u001b[0m (to Critic):\n",
      "\n",
      "Role: Ethics Reviewer\n",
      "\n",
      "Review:\n",
      "\n",
      "1. Ensure the promotion of DeepLearning.AI's courses does not seem to overpromise successful career outcomes, potentially misleading learners. Be clear that the certification and skills acquired can contribute to success, but do not guarantee it.\n",
      "\n",
      "2. Check that the phrases like \"AI firepower\" and \"Enter the future with DeepLearning.AI\" do not implicitly suggest a technological superiority or exclusivity, which might create an unfair comparison with other learning platforms. Strive for a balanced portrayal.\n",
      "\n",
      "3. Include a disclaimer note that learning and utilizing AI technology comes with ethical responsibilities, ensuring learners understand the importance of using new technologies responsibly. The message must reinforce the ethical use of AI knowledge.\n",
      "\n",
      "\n",
      "--------------------------------------------------------------------------------\n",
      "\u001b[34m\n",
      "********************************************************************************\u001b[0m\n",
      "\u001b[34mStarting a new chat....\n",
      "\n",
      "Message:\n",
      "Aggregrate feedback from all reviewers and give final suggestions on the writing.\n",
      "\n",
      "Carryover: \n",
      "{\"Reviewer\": \"SEO Reviewer\", \"Review\": \"1. Consider revising the title to include target keywords effectively; a suggestion could be 'Master AI with DeepLearning.AI: Your Online AI Learning Platform'. 2. Include more specific keywords such as 'online AI courses', 'AI specializations' or 'AI certification programs' to improve organic reach. 3. Add internal or external links to relevant courses or topics to increase user engagement and include a call-to-action to encourage site visitors to sign up or learn more.\"}\n",
      "{\"Reviewer\": \"Legal Reviewer\", \"Review\": \"1. Ensure that all claims relating to the certifications offered by DeepLearning.AI are accurate and verifiable. Replace unverifiable claims with more general phrases if necessary. 2. Verify that the term 'AI luminary' used to describe Dr. Andrew Ng complies with truth-in-advertising and public personality rights. Use a more objective term if necessary. 3. Confirm that we have the right to use Dr. Ng's name for promotional purposes. Remove these references or get written permission if necessary.\"}\n",
      "{\"Reviewer\": \"Ethics Reviewer\", \"Review\": \"1. Ensure the promotion of DeepLearning.AI's courses does not seem to overpromise successful career outcomes, potentially misleading learners. Be clear that the certification and skills acquired can contribute to success, but do not guarantee it. 2. Check that the phrases like 'AI firepower' and 'Enter the future with DeepLearning.AI' do not implicitly suggest a technological superiority or exclusivity, which might create an unfair comparison with other learning platforms. Strive for a balanced portrayal. 3. Include a disclaimer note that learning and utilizing AI technology comes with ethical responsibilities, ensuring learners understand the importance of using new technologies responsibly. The message must reinforce the ethical use of AI knowledge.\"}\u001b[0m\n",
      "\u001b[34m\n",
      "********************************************************************************\u001b[0m\n",
      "\u001b[33mCritic\u001b[0m (to Meta Reviewer):\n",
      "\n",
      "Aggregrate feedback from all reviewers and give final suggestions on the writing.\n",
      "Context: \n",
      "{\"Reviewer\": \"SEO Reviewer\", \"Review\": \"1. Consider revising the title to include target keywords effectively; a suggestion could be 'Master AI with DeepLearning.AI: Your Online AI Learning Platform'. 2. Include more specific keywords such as 'online AI courses', 'AI specializations' or 'AI certification programs' to improve organic reach. 3. Add internal or external links to relevant courses or topics to increase user engagement and include a call-to-action to encourage site visitors to sign up or learn more.\"}\n",
      "{\"Reviewer\": \"Legal Reviewer\", \"Review\": \"1. Ensure that all claims relating to the certifications offered by DeepLearning.AI are accurate and verifiable. Replace unverifiable claims with more general phrases if necessary. 2. Verify that the term 'AI luminary' used to describe Dr. Andrew Ng complies with truth-in-advertising and public personality rights. Use a more objective term if necessary. 3. Confirm that we have the right to use Dr. Ng's name for promotional purposes. Remove these references or get written permission if necessary.\"}\n",
      "{\"Reviewer\": \"Ethics Reviewer\", \"Review\": \"1. Ensure the promotion of DeepLearning.AI's courses does not seem to overpromise successful career outcomes, potentially misleading learners. Be clear that the certification and skills acquired can contribute to success, but do not guarantee it. 2. Check that the phrases like 'AI firepower' and 'Enter the future with DeepLearning.AI' do not implicitly suggest a technological superiority or exclusivity, which might create an unfair comparison with other learning platforms. Strive for a balanced portrayal. 3. Include a disclaimer note that learning and utilizing AI technology comes with ethical responsibilities, ensuring learners understand the importance of using new technologies responsibly. The message must reinforce the ethical use of AI knowledge.\"}\n",
      "\n",
      "--------------------------------------------------------------------------------\n",
      "\u001b[33mMeta Reviewer\u001b[0m (to Critic):\n",
      "\n",
      "Upon studying the reviews from SEO, Legal, and Ethics reviewers, the final suggestions are as follows:\n",
      "\n",
      "1. Title: Revise the title as suggested by the SEO reviewer to \"Master AI with DeepLearning.AI: Your Online AI Learning Platform\" to better incorporate target keywords. \n",
      "\n",
      "2. Keywords: Embed more specific keywords such as 'online AI courses', 'AI specializations', and 'AI certification programs' to enhance organic reach. \n",
      "\n",
      "3. Linking: Include relevant internal or external links to pertinent courses or topics, as well as a call-to-action, to engage more users and encourage them to sign up. \n",
      "\n",
      "4. Truthfulness: Ensure all claims about the certifications offered by DeepLearning.AI are accurate and verifiable and replace any unverifiable claims with more general phrases. \n",
      "\n",
      "5. Use of Names: Confirm that the use of the term \"AI luminary\" for Dr. Andrew Ng and its compliance with truth-in-advertising and public personality rights meet legal criteria. If necessary, switch to a more objective term. Also, confirm that we have the appropriate rights to use Dr. Ng's name for promotional purposes. \n",
      "\n",
      "6. Balance in Advertising: Avoid portraying the DeepLearning.AI courses as a guaranteed way to achieve successful career outcomes and ensure that advertising is balanced and fair, not implicitly suggesting technological superiority or exclusivity.\n",
      "\n",
      "7. Ethical Disclaimer: Include a disclaimer highlighting that learning and utilizing AI technology comes with ethical responsibilities and that users should utilize the knowledge they gain responsibly. \n",
      "\n",
      "Following these suggestions will ensure that the presented content meets the requirements of targeted SEO, ethical standards, and legal norms.\n",
      "\n",
      "--------------------------------------------------------------------------------\n",
      "\u001b[33mCritic\u001b[0m (to Writer):\n",
      "\n",
      "Upon studying the reviews from SEO, Legal, and Ethics reviewers, the final suggestions are as follows:\n",
      "\n",
      "1. Title: Revise the title as suggested by the SEO reviewer to \"Master AI with DeepLearning.AI: Your Online AI Learning Platform\" to better incorporate target keywords. \n",
      "\n",
      "2. Keywords: Embed more specific keywords such as 'online AI courses', 'AI specializations', and 'AI certification programs' to enhance organic reach. \n",
      "\n",
      "3. Linking: Include relevant internal or external links to pertinent courses or topics, as well as a call-to-action, to engage more users and encourage them to sign up. \n",
      "\n",
      "4. Truthfulness: Ensure all claims about the certifications offered by DeepLearning.AI are accurate and verifiable and replace any unverifiable claims with more general phrases. \n",
      "\n",
      "5. Use of Names: Confirm that the use of the term \"AI luminary\" for Dr. Andrew Ng and its compliance with truth-in-advertising and public personality rights meet legal criteria. If necessary, switch to a more objective term. Also, confirm that we have the appropriate rights to use Dr. Ng's name for promotional purposes. \n",
      "\n",
      "6. Balance in Advertising: Avoid portraying the DeepLearning.AI courses as a guaranteed way to achieve successful career outcomes and ensure that advertising is balanced and fair, not implicitly suggesting technological superiority or exclusivity.\n",
      "\n",
      "7. Ethical Disclaimer: Include a disclaimer highlighting that learning and utilizing AI technology comes with ethical responsibilities and that users should utilize the knowledge they gain responsibly. \n",
      "\n",
      "Following these suggestions will ensure that the presented content meets the requirements of targeted SEO, ethical standards, and legal norms.\n",
      "\n",
      "--------------------------------------------------------------------------------\n",
      "\u001b[33mWriter\u001b[0m (to Critic):\n",
      "\n",
      "Title: Master AI with DeepLearning.AI: Your Online AI Learning Platform\n",
      "\n",
      "Boost your AI prowess with DeepLearning.AI, an exceptional online platform that offers an array of AI courses and AI specializations. Launched by globally recognized AI expert Dr. Andrew Ng, this platform provides AI certification programs that enjoy worldwide validation. With comprehensive resources on Neural Networks to Deep Learning, it demystifies complex AI concepts. While DeepLearning.AI provides unparalleled learning opportunities, individual success depends on the learner's dedication and application. Step into the AI revolution on your terms, embarking on a journey with DeepLearning.AI that prioritizes responsible learning and use of AI technology. For more information [Click here](website link).\n",
      "\n",
      "--------------------------------------------------------------------------------\n"
     ]
    }
   ],
   "source": [
    "res = critic.initiate_chat(\n",
    "    recipient=writer,\n",
    "    message=task,\n",
    "    max_turns=2,\n",
    "    summary_method=\"last_msg\"\n",
    ")"
   ]
  },
  {
   "cell_type": "markdown",
   "id": "c5c833b0",
   "metadata": {},
   "source": [
    "## Get the summary"
   ]
  },
  {
   "cell_type": "code",
   "execution_count": 20,
   "id": "68ef82ed-f102-4964-b7be-60e2f258a39b",
   "metadata": {
    "height": 30
   },
   "outputs": [
    {
     "name": "stdout",
     "output_type": "stream",
     "text": [
      "Title: Master AI with DeepLearning.AI: Your Online AI Learning Platform\n",
      "\n",
      "Boost your AI prowess with DeepLearning.AI, an exceptional online platform that offers an array of AI courses and AI specializations. Launched by globally recognized AI expert Dr. Andrew Ng, this platform provides AI certification programs that enjoy worldwide validation. With comprehensive resources on Neural Networks to Deep Learning, it demystifies complex AI concepts. While DeepLearning.AI provides unparalleled learning opportunities, individual success depends on the learner's dedication and application. Step into the AI revolution on your terms, embarking on a journey with DeepLearning.AI that prioritizes responsible learning and use of AI technology. For more information [Click here](website link).\n"
     ]
    }
   ],
   "source": [
    "print(res.summary)"
   ]
  },
  {
   "cell_type": "code",
   "execution_count": null,
   "id": "32003b66",
   "metadata": {},
   "outputs": [],
   "source": []
  },
  {
   "cell_type": "code",
   "execution_count": null,
   "id": "d4a8c8da",
   "metadata": {},
   "outputs": [],
   "source": []
  },
  {
   "cell_type": "code",
   "execution_count": null,
   "id": "b4546cb9",
   "metadata": {},
   "outputs": [],
   "source": []
  }
 ],
 "metadata": {
  "kernelspec": {
   "display_name": "Python 3 (ipykernel)",
   "language": "python",
   "name": "python3"
  },
  "language_info": {
   "codemirror_mode": {
    "name": "ipython",
    "version": 3
   },
   "file_extension": ".py",
   "mimetype": "text/x-python",
   "name": "python",
   "nbconvert_exporter": "python",
   "pygments_lexer": "ipython3",
   "version": "3.11.7"
  }
 },
 "nbformat": 4,
 "nbformat_minor": 5
}
