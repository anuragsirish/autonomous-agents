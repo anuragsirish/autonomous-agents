{
 "cells": [
  {
   "cell_type": "markdown",
   "id": "8140b161",
   "metadata": {},
   "source": [
    "# Lesson 2: Sequential Chats and Customer Onboarding\n",
    "\n",
    "### A call center use case for a financial services firm that sells services like credit cards, checking accounts, etc. In this example, the customer has questions about travel credit cards to which the agents respond intelligently."
   ]
  },
  {
   "cell_type": "markdown",
   "id": "e9d4d307",
   "metadata": {},
   "source": [
    "## Setup"
   ]
  },
  {
   "cell_type": "code",
   "execution_count": 9,
   "id": "7eb4d7c3",
   "metadata": {},
   "outputs": [
    {
     "name": "stdout",
     "output_type": "stream",
     "text": [
      "Requirement already satisfied: python-dotenv in c:\\users\\akaruparti\\anaconda\\lib\\site-packages (1.0.1)\n",
      "Note: you may need to restart the kernel to use updated packages.\n"
     ]
    }
   ],
   "source": [
    "pip install python-dotenv"
   ]
  },
  {
   "cell_type": "code",
   "execution_count": 32,
   "id": "af483494",
   "metadata": {},
   "outputs": [],
   "source": [
    "import os\n",
    "from dotenv import load_dotenv\n",
    "\n",
    "load_dotenv()\n",
    "\n",
    "\n",
    "config_list = [\n",
    "  \n",
    "    {\n",
    "        'model': 'gpt4',\n",
    "        'api_key': ''+(os.environ.get('AZURE_OPENAI_KEY'))+'',\n",
    "        'base_url':  ''+(os.environ.get('AZURE_OPENAI_ENDPOINT'))+'',\n",
    "        'api_type': 'azure',\n",
    "        'api_version': '2024-02-01'\n",
    "    }\n",
    "]"
   ]
  },
  {
   "cell_type": "code",
   "execution_count": 33,
   "id": "20ce6700-8a33-424f-aefe-8852fd1e6d07",
   "metadata": {
    "height": 30
   },
   "outputs": [],
   "source": [
    "from autogen import ConversableAgent"
   ]
  },
  {
   "cell_type": "markdown",
   "id": "76f979f9",
   "metadata": {},
   "source": [
    "## Creating the needed agents"
   ]
  },
  {
   "cell_type": "code",
   "execution_count": 34,
   "id": "a527bb1e-dd4e-47b0-a1b7-a9cbcd87cbdb",
   "metadata": {
    "height": 200
   },
   "outputs": [],
   "source": [
    "onboarding_personal_information_agent = ConversableAgent(\n",
    "    name=\"Onboarding Personal Information Agent\",\n",
    "    system_message='''You are a Personal Info Agent. Your task is to collect and manage personal information from customers. \n",
    "    Ensure that you handle data sensitively and securely, complying with privacy regulations such as GDPR. \n",
    "    Your job is to gather customer's name and location.\n",
    "    Do not ask for other information. Return 'TERMINATE' \n",
    "    when you have gathered all the information.''',\n",
    "    llm_config={\n",
    "        \"config_list\": config_list,\n",
    "    },\n",
    "    code_execution_config=False,\n",
    "    human_input_mode=\"NEVER\",\n",
    ")"
   ]
  },
  {
   "cell_type": "code",
   "execution_count": 35,
   "id": "51bc9a24-a680-444d-943b-b740bce0189d",
   "metadata": {
    "height": 215
   },
   "outputs": [],
   "source": [
    "onboarding_topic_preference_agent = ConversableAgent(\n",
    "    name=\"Onboarding Topic preference Agent\",\n",
    "    system_message='''You are an Onboarding Topic Preference Agent. Your role is to assist new customers in selecting their \n",
    "    preferred topics and interests for a personalized onboarding experience. Ask the customers about their \n",
    "    interests, preferences, and any specific topics they would like to focus on. Provide recommendations based \n",
    "    on their responses and ensure that the onboarding experience is tailored to their needs.\n",
    "    Do not ask for other information.\n",
    "    Return 'TERMINATE' when you have gathered all the information.''',\n",
    "      llm_config={\n",
    "        \"config_list\": config_list,\n",
    "    },\n",
    "    code_execution_config=False,\n",
    "    human_input_mode=\"NEVER\",\n",
    ")"
   ]
  },
  {
   "cell_type": "code",
   "execution_count": 36,
   "id": "6755a7fc-cb17-4d62-a03f-48e260f39010",
   "metadata": {
    "height": 249
   },
   "outputs": [],
   "source": [
    "customer_engagement_agent = ConversableAgent(\n",
    "    name=\"Customer Engagement Agent\",\n",
    "    system_message='''You are a Customer Engagement Agent in Financial Services company that provides services like credit cards, checking accounts, etc. Your job is to maintain and enhance customer engagement through \n",
    "    personalized interactions. You should ask customers about their recent experiences, gather feedback, \n",
    "    and suggest relevant products or services based on their preferences and previous interactions. \n",
    "    Your goal is to keep customers engaged and satisfied with their experience.\n",
    "    Make sure to make it engaging and fun!\n",
    "    Return 'TERMINATE' when you are done.''',\n",
    "      llm_config={\n",
    "        \"config_list\": config_list,\n",
    "    },\n",
    "    code_execution_config=False,\n",
    "    human_input_mode=\"NEVER\",\n",
    "    is_termination_msg=lambda msg: \"terminate\" in msg.get(\"content\").lower(),\n",
    ")"
   ]
  },
  {
   "cell_type": "code",
   "execution_count": 37,
   "id": "64267c0b-f7f2-46e6-ab44-6f7b5fbd9db7",
   "metadata": {
    "height": 147
   },
   "outputs": [],
   "source": [
    "customer_proxy_agent = ConversableAgent(\n",
    "    name=\"customer_proxy_agent\",\n",
    "    llm_config=False,\n",
    "    code_execution_config=False,\n",
    "    human_input_mode=\"ALWAYS\",\n",
    "    is_termination_msg=lambda msg: \"terminate\" in msg.get(\"content\").lower(),\n",
    ")"
   ]
  },
  {
   "cell_type": "markdown",
   "id": "4f240408",
   "metadata": {},
   "source": [
    "## Creating tasks\n",
    "\n",
    "Now, you can craft a series of tasks to facilitate the onboarding process."
   ]
  },
  {
   "cell_type": "code",
   "execution_count": 38,
   "id": "2b15af1d-7042-4569-a936-7966be203f05",
   "metadata": {
    "height": 606
   },
   "outputs": [],
   "source": [
    "chats = [\n",
    "    {\n",
    "        \"sender\": onboarding_personal_information_agent,\n",
    "        \"recipient\": customer_proxy_agent,\n",
    "        \"message\": \n",
    "            \"Hello, I'm here to help you get started with our product.\"\n",
    "            \"Could you tell me your name and location?\",\n",
    "        \"summary_method\": \"reflection_with_llm\",\n",
    "        \"summary_args\": {\n",
    "            \"summary_prompt\" : \"Return the customer information \"\n",
    "                             \"into as JSON object only: \"\n",
    "                             \"{'name': '', 'location': ''}\",\n",
    "        },\n",
    "        \"max_turns\": 2,\n",
    "        \"clear_history\" : True\n",
    "    },\n",
    "    {\n",
    "        \"sender\": onboarding_topic_preference_agent,\n",
    "        \"recipient\": customer_proxy_agent,\n",
    "        \"message\": \n",
    "                \"Great! Could you tell me what products you are \"\n",
    "                \"interested in learning about?\",\n",
    "        \"summary_method\": \"reflection_with_llm\",\n",
    "        \"max_turns\": 3,\n",
    "        \"clear_history\" : False\n",
    "    },\n",
    "    {\n",
    "        \"sender\": customer_proxy_agent,\n",
    "        \"recipient\": customer_engagement_agent,\n",
    "        \"message\": \"Let's find more details of the product you are interested in.\",\n",
    "        \"max_turns\": 3,\n",
    "        \"summary_method\": \"reflection_with_llm\",\n",
    "    },\n",
    "]"
   ]
  },
  {
   "cell_type": "markdown",
   "id": "862a066b",
   "metadata": {},
   "source": [
    "## Start the onboarding process"
   ]
  },
  {
   "cell_type": "markdown",
   "id": "e0fa8f99",
   "metadata": {},
   "source": [
    "**Note**: You might get a slightly different response than what's shown in the video. Feel free to try different inputs, such as name, location, and preferences."
   ]
  },
  {
   "cell_type": "code",
   "execution_count": 39,
   "id": "8d3a8e74",
   "metadata": {},
   "outputs": [
    {
     "name": "stdout",
     "output_type": "stream",
     "text": [
      "\u001b[34m\n",
      "********************************************************************************\u001b[0m\n",
      "\u001b[34mStarting a new chat....\u001b[0m\n",
      "\u001b[34m\n",
      "********************************************************************************\u001b[0m\n",
      "\u001b[33mOnboarding Personal Information Agent\u001b[0m (to customer_proxy_agent):\n",
      "\n",
      "Hello, I'm here to help you get started with our product.Could you tell me your name and location?\n",
      "\n",
      "--------------------------------------------------------------------------------\n"
     ]
    },
    {
     "name": "stderr",
     "output_type": "stream",
     "text": [
      "c:\\Users\\akaruparti\\anaconda\\Lib\\site-packages\\autogen\\agentchat\\chat.py:47: UserWarning: Repetitive recipients detected: The chat history will be cleared by default if a recipient appears more than once. To retain the chat history, please set 'clear_history=False' in the configuration of the repeating agent.\n",
      "  warnings.warn(\n"
     ]
    },
    {
     "name": "stdout",
     "output_type": "stream",
     "text": [
      "\u001b[33mcustomer_proxy_agent\u001b[0m (to Onboarding Personal Information Agent):\n",
      "\n",
      "anurag from new york\n",
      "\n",
      "--------------------------------------------------------------------------------\n",
      "\u001b[33mOnboarding Personal Information Agent\u001b[0m (to customer_proxy_agent):\n",
      "\n",
      "Great! Thank you for providing your name and location, Anurag from New York. We have collected all necessary information. TERMINATE\n",
      "\n",
      "--------------------------------------------------------------------------------\n",
      "\u001b[33mcustomer_proxy_agent\u001b[0m (to Onboarding Personal Information Agent):\n",
      "\n",
      "thanks\n",
      "\n",
      "--------------------------------------------------------------------------------\n",
      "\u001b[34m\n",
      "********************************************************************************\u001b[0m\n",
      "\u001b[34mStarting a new chat....\u001b[0m\n",
      "\u001b[34m\n",
      "********************************************************************************\u001b[0m\n",
      "\u001b[33mOnboarding Topic preference Agent\u001b[0m (to customer_proxy_agent):\n",
      "\n",
      "Great! Could you tell me what products you are interested in learning about?\n",
      "Context: \n",
      "{\n",
      "  \"name\": \"Anurag\",\n",
      "  \"location\": \"New York\"\n",
      "}\n",
      "\n",
      "--------------------------------------------------------------------------------\n",
      "\u001b[33mcustomer_proxy_agent\u001b[0m (to Onboarding Topic preference Agent):\n",
      "\n",
      "travel credit cards\n",
      "\n",
      "--------------------------------------------------------------------------------\n",
      "\u001b[33mOnboarding Topic preference Agent\u001b[0m (to customer_proxy_agent):\n",
      "\n",
      "That's fantastic! Considering your interest in travel credit cards, would you also be interested in topics like maximizing travel rewards, understanding travel insurance perks, and tips to manage card expenses while traveling?\n",
      "\n",
      "--------------------------------------------------------------------------------\n",
      "\u001b[33mcustomer_proxy_agent\u001b[0m (to Onboarding Topic preference Agent):\n",
      "\n",
      "maximizing travel rewards\n",
      "\n",
      "--------------------------------------------------------------------------------\n",
      "\u001b[33mOnboarding Topic preference Agent\u001b[0m (to customer_proxy_agent):\n",
      "\n",
      "Excellent choice, Anurag! Learning about maximizing travel rewards can be very beneficial. Would you also like to delve into specific types of rewards like air miles, hotel loyalty points, and dining rewards?\n",
      "\n",
      "--------------------------------------------------------------------------------\n",
      "\u001b[33mcustomer_proxy_agent\u001b[0m (to Onboarding Topic preference Agent):\n",
      "\n",
      "yes\n",
      "\n",
      "--------------------------------------------------------------------------------\n",
      "\u001b[34m\n",
      "********************************************************************************\u001b[0m\n",
      "\u001b[34mStarting a new chat....\u001b[0m\n",
      "\u001b[34m\n",
      "********************************************************************************\u001b[0m\n",
      "\u001b[33mcustomer_proxy_agent\u001b[0m (to Customer Engagement Agent):\n",
      "\n",
      "Let's find more details of the product you are interested in.\n",
      "Context: \n",
      "{\n",
      "  \"name\": \"Anurag\",\n",
      "  \"location\": \"New York\"\n",
      "}\n",
      "Anurag, who is from New York, wants to learn about travel credit cards, specifically about maximizing travel rewards, including information on air miles, hotel loyalty points and dining rewards.\n",
      "\n",
      "--------------------------------------------------------------------------------\n",
      "\u001b[33mCustomer Engagement Agent\u001b[0m (to customer_proxy_agent):\n",
      "\n",
      "Hello Anurag! I hope you're enjoying all the things that New York has to offer! As a traveler, you do need a credit card that's going to work as hard as you do. When it comes to maximizing travel rewards, we have a variety of options for you.\n",
      "\n",
      "Our most popular travel credit card is our Globetrotter Platinum card. With this card, you earn an amazing 3 air miles for every dollar spent on all airline purchases. You're also entitled to 2 hotel loyalty points for every dollar spent on accommodations, no matter where in the world you stay! If that wasn't enough, we also offer a whopping 5x dining rewards at all participating restaurants globally. \n",
      "\n",
      "But we didn't stop there, Anurag. We additionally offer exclusive benefits such as priority boarding on flights, complimentary airport lounge access, and no foreign transaction fees. This card truly understands your needs as a traveler and helps you to maximize your rewards every mile of the way.\n",
      "\n",
      "Did I spark your interest, Anurag? I'm here to answer any other questions you might have. Please let me know!\n",
      "\n",
      "--------------------------------------------------------------------------------\n",
      "\u001b[33mcustomer_proxy_agent\u001b[0m (to Customer Engagement Agent):\n",
      "\n",
      "yes please tell me more\n",
      "\n",
      "--------------------------------------------------------------------------------\n",
      "\u001b[33mCustomer Engagement Agent\u001b[0m (to customer_proxy_agent):\n",
      "\n",
      "I'm thrilled to hear that you're interested, Anurag! Let's delve deeper into the benefits of the Globetrotter Platinum card.\n",
      "\n",
      "When you sign up for the Globetrotter Platinum, you'll receive an incredible welcome bonus of 30,000 air miles once you spend $3,000 in your first 3 months. That's enough for a round trip ticket to most destinations in the U.S!\n",
      "\n",
      "Moreover, through our close partnerships with major airlines and hotels worldwide, we regularly offer promotional campaigns where you can earn double or even triple the usual rewards points or miles for certain periods of time.\n",
      "\n",
      "And let's not forget about dining - your love for food can literally take you places! With 5x dining rewards, your date nights, brunches with friends, or even your cup of coffee become opportunities to accumulate more miles.\n",
      "\n",
      "Your accumulated miles, hotel loyalty points, and dining rewards can be redeemed in countless ways, from booking air tickets and hotel stays to upgrading your seat on airlines to purchasing gift cards for your loved ones.\n",
      "\n",
      "Additionally, our excellent customer service team is always on standby, ready to assist you 24/7 wherever in the world you might be.\n",
      "\n",
      "That's what I love about our Globetrotter Platinum card - it's more than a mere credit card; it’s your passport to a lifestyle of luxury, comfort, and endless adventure. \n",
      "\n",
      "Does this sound like the card that will meet your travel needs, Anurag?\n",
      "\n",
      "--------------------------------------------------------------------------------\n",
      "\u001b[33mcustomer_proxy_agent\u001b[0m (to Customer Engagement Agent):\n",
      "\n",
      "yes\n",
      "\n",
      "--------------------------------------------------------------------------------\n",
      "\u001b[33mCustomer Engagement Agent\u001b[0m (to customer_proxy_agent):\n",
      "\n",
      "That's fantastic to hear, Anurag! The Globetrotter Platinum card is indeed a terrific choice for frequent travelers like you. I believe it's going to enhance your traveling experiences a lot.\n",
      "\n",
      "Before we proceed to the application process, do you have any other questions or concerns? Or is there anything else about the card you'd like to know in detail? We want to ensure you have all the information you need to make this important decision.\n",
      "\n",
      "--------------------------------------------------------------------------------\n"
     ]
    }
   ],
   "source": [
    "from autogen import initiate_chats\n",
    "\n",
    "chat_results = initiate_chats(chats)"
   ]
  },
  {
   "cell_type": "markdown",
   "id": "4f9e2713",
   "metadata": {},
   "source": [
    "## Print out the summary"
   ]
  },
  {
   "cell_type": "code",
   "execution_count": 40,
   "id": "1e122f8a-1ceb-4635-9672-662114b0552a",
   "metadata": {
    "height": 64
   },
   "outputs": [
    {
     "name": "stdout",
     "output_type": "stream",
     "text": [
      "{\n",
      "  \"name\": \"Anurag\",\n",
      "  \"location\": \"New York\"\n",
      "}\n",
      "\n",
      "\n",
      "Anurag, who is from New York, wants to learn about travel credit cards, specifically about maximizing travel rewards, including information on air miles, hotel loyalty points and dining rewards.\n",
      "\n",
      "\n",
      "Anurag, from New York, is interested in applying for the Globetrotter Platinum travel credit card which provides 3 air miles for every dollar spent on airlines, 2 hotel loyalty points for every dollar spent on accommodations and 5x dining rewards. The card also has other benefits like priority boarding, complimentary airport lounge access, no foreign transaction fees along with a welcome bonus of 30,000 air miles after spending $3,000 in the first 3 months.\n",
      "\n",
      "\n"
     ]
    }
   ],
   "source": [
    "for chat_result in chat_results:\n",
    "    print(chat_result.summary)\n",
    "    print(\"\\n\")"
   ]
  },
  {
   "cell_type": "markdown",
   "id": "a674c4eb",
   "metadata": {},
   "source": [
    "## Print out the cost"
   ]
  },
  {
   "cell_type": "code",
   "execution_count": 41,
   "id": "8b82a10a-afe5-4ba3-97b4-41c8c14b739f",
   "metadata": {
    "height": 64
   },
   "outputs": [
    {
     "name": "stdout",
     "output_type": "stream",
     "text": [
      "{'usage_including_cached_inference': {'total_cost': 0.018659999999999996, 'gpt-4-32k': {'cost': 0.018659999999999996, 'prompt_tokens': 219, 'completion_tokens': 46, 'total_tokens': 265}}, 'usage_excluding_cached_inference': {'total_cost': 0}}\n",
      "\n",
      "\n",
      "{'usage_including_cached_inference': {'total_cost': 0.04548, 'gpt-4-32k': {'cost': 0.04548, 'prompt_tokens': 528, 'completion_tokens': 115, 'total_tokens': 643}}, 'usage_excluding_cached_inference': {'total_cost': 0.04548, 'gpt-4-32k': {'cost': 0.04548, 'prompt_tokens': 528, 'completion_tokens': 115, 'total_tokens': 643}}}\n",
      "\n",
      "\n",
      "{'usage_including_cached_inference': {'total_cost': 0.20975999999999997, 'gpt-4-32k': {'cost': 0.20975999999999997, 'prompt_tokens': 2076, 'completion_tokens': 710, 'total_tokens': 2786}}, 'usage_excluding_cached_inference': {'total_cost': 0.20975999999999997, 'gpt-4-32k': {'cost': 0.20975999999999997, 'prompt_tokens': 2076, 'completion_tokens': 710, 'total_tokens': 2786}}}\n",
      "\n",
      "\n"
     ]
    }
   ],
   "source": [
    "for chat_result in chat_results:\n",
    "    print(chat_result.cost)\n",
    "    print(\"\\n\")"
   ]
  }
 ],
 "metadata": {
  "kernelspec": {
   "display_name": "Python 3 (ipykernel)",
   "language": "python",
   "name": "python3"
  },
  "language_info": {
   "codemirror_mode": {
    "name": "ipython",
    "version": 3
   },
   "file_extension": ".py",
   "mimetype": "text/x-python",
   "name": "python",
   "nbconvert_exporter": "python",
   "pygments_lexer": "ipython3",
   "version": "3.11.7"
  }
 },
 "nbformat": 4,
 "nbformat_minor": 5
}
